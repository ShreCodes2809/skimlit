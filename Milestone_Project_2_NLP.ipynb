{
  "nbformat": 4,
  "nbformat_minor": 0,
  "metadata": {
    "colab": {
      "provenance": [],
      "collapsed_sections": [
        "Zbs4OpFK0je1",
        "tjOXsiz7Tg1K",
        "WuNY9hfCVi80",
        "lK58ct-KVvtU",
        "vUobI6Dl0elW",
        "0fmF18ey03RT",
        "5khAajsm14iZ",
        "pVGnKYKr1Ze6",
        "z0tt25JP1w76",
        "_ZTdz3682Wjd",
        "mtipPaBE9JNC",
        "AUpxdPjcC3OI",
        "TSzjnfsNC7GE",
        "TUkocesAEj4l",
        "PzCMEWl5IInI",
        "Kfo8qDAowTeY",
        "_4HLZh3D5u4E",
        "CakyKxXbAU3x",
        "Ey6HnSI3G9bk",
        "g2y8S5Z2KcBq",
        "0678Xqm0Kz-Q",
        "8ewsqBxhR1Jl",
        "82naaf_YcYZr",
        "KlUj8mmEhPrt",
        "IHBIYQeDmQKM",
        "x11lSY67C65p",
        "HrKl723AJW_u",
        "_bXCIqmhLtHY",
        "Q6Y_CMTANm5R",
        "mUmUovo_CgMI",
        "69UVSL1RDw7f",
        "QUaPIY99i-oy",
        "4mb6RgK-k4YQ"
      ]
    },
    "kernelspec": {
      "name": "python3",
      "display_name": "Python 3"
    },
    "language_info": {
      "name": "python"
    },
    "accelerator": "GPU"
  },
  "cells": [
    {
      "cell_type": "markdown",
      "metadata": {
        "id": "Zbs4OpFK0je1"
      },
      "source": [
        "# Introduction To Milestone Project: Skimlit✨\n",
        "\n",
        "The purpose of this notebook is to build an NLP model to make reading medical abstracts easier.\n",
        "\n",
        "The paper we're replicating (the source of the dataset that we'll be using) is available here: https://arxiv.org/abs/1710.06071\n",
        "\n",
        "And reading through the paper above, we see the model architecture that they use to achieve their best results is available here: https://arxiv.org/abs/1612.05251"
      ]
    },
    {
      "cell_type": "code",
      "metadata": {
        "colab": {
          "base_uri": "https://localhost:8080/"
        },
        "id": "D3bhPbAcSWlN",
        "outputId": "37668ef4-2cca-4316-c1c8-583ce2347400"
      },
      "source": [
        "!nvidia-smi -L"
      ],
      "execution_count": null,
      "outputs": [
        {
          "output_type": "stream",
          "name": "stdout",
          "text": [
            "GPU 0: Tesla K80 (UUID: GPU-76b114a8-7e2d-e0e3-eaf1-56f800d134ef)\n"
          ]
        }
      ]
    },
    {
      "cell_type": "code",
      "metadata": {
        "colab": {
          "base_uri": "https://localhost:8080/"
        },
        "id": "JfPQ0a9c7G2M",
        "outputId": "13f5d975-bd8a-4e55-9cd5-8ef69fefc5b9"
      },
      "source": [
        "!wget https://raw.githubusercontent.com/mrdbourke/tensorflow-deep-learning/main/extras/helper_functions.py"
      ],
      "execution_count": null,
      "outputs": [
        {
          "output_type": "stream",
          "name": "stdout",
          "text": [
            "--2021-09-23 07:07:16--  https://raw.githubusercontent.com/mrdbourke/tensorflow-deep-learning/main/extras/helper_functions.py\n",
            "Resolving raw.githubusercontent.com (raw.githubusercontent.com)... 185.199.108.133, 185.199.109.133, 185.199.110.133, ...\n",
            "Connecting to raw.githubusercontent.com (raw.githubusercontent.com)|185.199.108.133|:443... connected.\n",
            "HTTP request sent, awaiting response... 200 OK\n",
            "Length: 10246 (10K) [text/plain]\n",
            "Saving to: ‘helper_functions.py’\n",
            "\n",
            "\rhelper_functions.py   0%[                    ]       0  --.-KB/s               \rhelper_functions.py 100%[===================>]  10.01K  --.-KB/s    in 0s      \n",
            "\n",
            "2021-09-23 07:07:16 (63.1 MB/s) - ‘helper_functions.py’ saved [10246/10246]\n",
            "\n"
          ]
        }
      ]
    },
    {
      "cell_type": "code",
      "metadata": {
        "id": "qcT-vBQz7QCM"
      },
      "source": [
        "from helper_functions import calculate_results"
      ],
      "execution_count": null,
      "outputs": []
    },
    {
      "cell_type": "markdown",
      "metadata": {
        "id": "tjOXsiz7Tg1K"
      },
      "source": [
        "## Getting the dataset ready\n",
        "\n",
        "We are gonna replicate the paper directly from the author's GitHub: https://github.com/Franck-Dernoncourt/pubmed-rct"
      ]
    },
    {
      "cell_type": "code",
      "metadata": {
        "colab": {
          "base_uri": "https://localhost:8080/"
        },
        "id": "bKbYCy9WTlU2",
        "outputId": "511a8352-8ffa-41ef-d946-0c76af7a00ba"
      },
      "source": [
        "!git clone https://github.com/Franck-Dernoncourt/pubmed-rct\n",
        "!ls pubmed-rct"
      ],
      "execution_count": null,
      "outputs": [
        {
          "output_type": "stream",
          "name": "stdout",
          "text": [
            "Cloning into 'pubmed-rct'...\n",
            "remote: Enumerating objects: 33, done.\u001b[K\n",
            "remote: Counting objects: 100% (3/3), done.\u001b[K\n",
            "remote: Compressing objects: 100% (3/3), done.\u001b[K\n",
            "remote: Total 33 (delta 0), reused 0 (delta 0), pack-reused 30\u001b[K\n",
            "Unpacking objects: 100% (33/33), done.\n",
            "PubMed_200k_RCT\n",
            "PubMed_200k_RCT_numbers_replaced_with_at_sign\n",
            "PubMed_20k_RCT\n",
            "PubMed_20k_RCT_numbers_replaced_with_at_sign\n",
            "README.md\n"
          ]
        }
      ]
    },
    {
      "cell_type": "code",
      "metadata": {
        "colab": {
          "base_uri": "https://localhost:8080/"
        },
        "id": "NwLVCjz9UEr7",
        "outputId": "b13144e2-3405-4fcc-c71b-8777f2d09e96"
      },
      "source": [
        "# check what files in the PubMed_20k dataset\n",
        "!ls pubmed-rct/PubMed_20k_RCT_numbers_replaced_with_at_sign/"
      ],
      "execution_count": null,
      "outputs": [
        {
          "output_type": "stream",
          "name": "stdout",
          "text": [
            "dev.txt  test.txt  train.txt\n"
          ]
        }
      ]
    },
    {
      "cell_type": "code",
      "metadata": {
        "id": "nmuP-F75Ukpc"
      },
      "source": [
        "# start our experimments using the 20k dataset with numbers replaced by '@' sign\n",
        "data_dir = \"/content/pubmed-rct/PubMed_20k_RCT_numbers_replaced_with_at_sign/\""
      ],
      "execution_count": null,
      "outputs": []
    },
    {
      "cell_type": "code",
      "metadata": {
        "colab": {
          "base_uri": "https://localhost:8080/"
        },
        "id": "nsJpaLjKVUKN",
        "outputId": "065a9062-1536-405e-ff39-55f4edd39b56"
      },
      "source": [
        "# check all teh filenames in the target directory\n",
        "import os\n",
        "filenames = [data_dir + filename for filename in os.listdir(data_dir)]\n",
        "filenames"
      ],
      "execution_count": null,
      "outputs": [
        {
          "output_type": "execute_result",
          "data": {
            "text/plain": [
              "['/content/pubmed-rct/PubMed_20k_RCT_numbers_replaced_with_at_sign/test.txt',\n",
              " '/content/pubmed-rct/PubMed_20k_RCT_numbers_replaced_with_at_sign/dev.txt',\n",
              " '/content/pubmed-rct/PubMed_20k_RCT_numbers_replaced_with_at_sign/train.txt']"
            ]
          },
          "metadata": {},
          "execution_count": 7
        }
      ]
    },
    {
      "cell_type": "markdown",
      "metadata": {
        "id": "WuNY9hfCVi80"
      },
      "source": [
        "## Becoming one with the data"
      ]
    },
    {
      "cell_type": "markdown",
      "metadata": {
        "id": "lK58ct-KVvtU"
      },
      "source": [
        "### Preprocess data"
      ]
    },
    {
      "cell_type": "code",
      "metadata": {
        "id": "NY6zJPeSV4I3"
      },
      "source": [
        "# create function to read the lines of a document\n",
        "def get_lines(filename):\n",
        "  \"\"\"\n",
        "  Reads filename (a text filename) and returns the lines of text as a list.\n",
        "\n",
        "  Args:\n",
        "    filename: a string containing the target filepath.\n",
        "\n",
        "  Returns:\n",
        "    A list of strings with one string per line from the target filename.\n",
        "  \"\"\"\n",
        "  with open(filename, 'r') as f:\n",
        "    return f.readlines()"
      ],
      "execution_count": null,
      "outputs": []
    },
    {
      "cell_type": "code",
      "metadata": {
        "id": "NdqZKSLsWsMx",
        "colab": {
          "base_uri": "https://localhost:8080/"
        },
        "outputId": "d3960867-cd7a-4559-b8dd-84426b3eb4c6"
      },
      "source": [
        "# read in the training lines\n",
        "train_lines = get_lines(data_dir+\"train.txt\") # read the lines with the training file\n",
        "train_lines[:20]"
      ],
      "execution_count": null,
      "outputs": [
        {
          "output_type": "execute_result",
          "data": {
            "text/plain": [
              "['###24293578\\n',\n",
              " 'OBJECTIVE\\tTo investigate the efficacy of @ weeks of daily low-dose oral prednisolone in improving pain , mobility , and systemic low-grade inflammation in the short term and whether the effect would be sustained at @ weeks in older adults with moderate to severe knee osteoarthritis ( OA ) .\\n',\n",
              " 'METHODS\\tA total of @ patients with primary knee OA were randomized @:@ ; @ received @ mg/day of prednisolone and @ received placebo for @ weeks .\\n',\n",
              " 'METHODS\\tOutcome measures included pain reduction and improvement in function scores and systemic inflammation markers .\\n',\n",
              " 'METHODS\\tPain was assessed using the visual analog pain scale ( @-@ mm ) .\\n',\n",
              " 'METHODS\\tSecondary outcome measures included the Western Ontario and McMaster Universities Osteoarthritis Index scores , patient global assessment ( PGA ) of the severity of knee OA , and @-min walk distance ( @MWD ) .\\n',\n",
              " 'METHODS\\tSerum levels of interleukin @ ( IL-@ ) , IL-@ , tumor necrosis factor ( TNF ) - , and high-sensitivity C-reactive protein ( hsCRP ) were measured .\\n',\n",
              " 'RESULTS\\tThere was a clinically relevant reduction in the intervention group compared to the placebo group for knee pain , physical function , PGA , and @MWD at @ weeks .\\n',\n",
              " 'RESULTS\\tThe mean difference between treatment arms ( @ % CI ) was @ ( @-@ @ ) , p < @ ; @ ( @-@ @ ) , p < @ ; @ ( @-@ @ ) , p < @ ; and @ ( @-@ @ ) , p < @ , respectively .\\n',\n",
              " 'RESULTS\\tFurther , there was a clinically relevant reduction in the serum levels of IL-@ , IL-@ , TNF - , and hsCRP at @ weeks in the intervention group when compared to the placebo group .\\n',\n",
              " 'RESULTS\\tThese differences remained significant at @ weeks .\\n',\n",
              " 'RESULTS\\tThe Outcome Measures in Rheumatology Clinical Trials-Osteoarthritis Research Society International responder rate was @ % in the intervention group and @ % in the placebo group ( p < @ ) .\\n',\n",
              " 'CONCLUSIONS\\tLow-dose oral prednisolone had both a short-term and a longer sustained effect resulting in less knee pain , better physical function , and attenuation of systemic inflammation in older patients with knee OA ( ClinicalTrials.gov identifier NCT@ ) .\\n',\n",
              " '\\n',\n",
              " '###24854809\\n',\n",
              " 'BACKGROUND\\tEmotional eating is associated with overeating and the development of obesity .\\n',\n",
              " 'BACKGROUND\\tYet , empirical evidence for individual ( trait ) differences in emotional eating and cognitive mechanisms that contribute to eating during sad mood remain equivocal .\\n',\n",
              " 'OBJECTIVE\\tThe aim of this study was to test if attention bias for food moderates the effect of self-reported emotional eating during sad mood ( vs neutral mood ) on actual food intake .\\n',\n",
              " 'OBJECTIVE\\tIt was expected that emotional eating is predictive of elevated attention for food and higher food intake after an experimentally induced sad mood and that attentional maintenance on food predicts food intake during a sad versus a neutral mood .\\n',\n",
              " 'METHODS\\tParticipants ( N = @ ) were randomly assigned to one of the two experimental mood induction conditions ( sad/neutral ) .\\n']"
            ]
          },
          "metadata": {},
          "execution_count": 9
        }
      ]
    },
    {
      "cell_type": "code",
      "metadata": {
        "colab": {
          "base_uri": "https://localhost:8080/"
        },
        "id": "U89Kz_3rW8nj",
        "outputId": "01bd88f9-05ec-4474-e178-d32ecba8b73f"
      },
      "source": [
        "len(train_lines)"
      ],
      "execution_count": null,
      "outputs": [
        {
          "output_type": "execute_result",
          "data": {
            "text/plain": [
              "210040"
            ]
          },
          "metadata": {},
          "execution_count": 10
        }
      ]
    },
    {
      "cell_type": "markdown",
      "metadata": {
        "id": "Qs_yVt03XLdq"
      },
      "source": [
        "Our data would be best represented in the following format:\n",
        "\n",
        "```\n",
        "[{'line_number': 0,\n",
        "  'target': 'BACKGROUND',\n",
        "  'text': 'Emotional eating is associated with overeating and the development of obesity .\\n'\n",
        "  'total_lines': 11},\n",
        "  .....]\n",
        "```"
      ]
    },
    {
      "cell_type": "code",
      "metadata": {
        "id": "DXu87Pe7ZEhM"
      },
      "source": [
        "def preprocess_text_line_numbers(filename):\n",
        "  \"\"\"\n",
        "  Returns a list of dictionaries of abstract line data.\n",
        "\n",
        "  Takes in filename, reads it contents, and sorts through each line,\n",
        "  extracting things like the target label, the text of the sentence,\n",
        "  how many sentences are in the current abstract and what sentence\n",
        "  number the target line is.\n",
        "  \"\"\"\n",
        "  input_lines = get_lines(filename)\n",
        "  abstract_lines = \"\" # create an empty abstract\n",
        "  abstract_samples = [] # create an empty list of abstracts\n",
        "\n",
        "  # loop through each line in the target file\n",
        "  for line in input_lines:\n",
        "    if line.startswith(\"###\"): # check to see if it is an ID line\n",
        "      abstract_id = line\n",
        "      abstract_lines = \"\" # reset the abstract string if the line is an ID line\n",
        "    elif line.isspace(): # checking to see if it is a space\n",
        "      abstract_line_split = abstract_lines.splitlines() # split the abstract into separate lines\n",
        "      # iterate through each line in a single abstract and count them at the same time\n",
        "      for abstract_line_number, abstract_line in enumerate(abstract_line_split):\n",
        "        line_data = {} # create an empty dictionary for each line\n",
        "        target_text_split = abstract_line.split(\"\\t\") # split target label from text\n",
        "        line_data[\"target\"] = target_text_split[0] # get target label\n",
        "        line_data[\"text\"] = target_text_split[1].lower() # get target text and lower it\n",
        "        line_data[\"line_number\"] = abstract_line_number # what number does the line appear in the abstract?\n",
        "        line_data[\"total_lines\"] = len(abstract_line_split) - 1 # how mnay total lines are there in the target abstract\n",
        "        abstract_samples.append(line_data) # add line data to abstract samples list\n",
        "\n",
        "    else: # if the above conditions aren't fulfilled, the line contains a labelled sentence\n",
        "      abstract_lines += line\n",
        "\n",
        "  return abstract_samples"
      ],
      "execution_count": null,
      "outputs": []
    },
    {
      "cell_type": "code",
      "metadata": {
        "colab": {
          "base_uri": "https://localhost:8080/"
        },
        "id": "siKZq3tyZUs6",
        "outputId": "d090273e-7021-483c-f063-3d321bee0dc4"
      },
      "source": [
        "# getting data from file and preprocess it\n",
        "%%time\n",
        "train_samples = preprocess_text_line_numbers(data_dir + \"train.txt\")\n",
        "val_samples = preprocess_text_line_numbers(data_dir + \"dev.txt\") # \"dev\" is another name for validation dataset\n",
        "test_samples = preprocess_text_line_numbers(data_dir + \"test.txt\")\n",
        "print(len(train_samples), len(val_samples), len(test_samples))"
      ],
      "execution_count": null,
      "outputs": [
        {
          "output_type": "stream",
          "name": "stdout",
          "text": [
            "180040 30212 30135\n",
            "CPU times: user 517 ms, sys: 101 ms, total: 618 ms\n",
            "Wall time: 621 ms\n"
          ]
        }
      ]
    },
    {
      "cell_type": "code",
      "metadata": {
        "id": "x54VjfWseEQc",
        "colab": {
          "base_uri": "https://localhost:8080/"
        },
        "outputId": "9d3711dc-77de-4dcc-c29b-cabeb58fee4a"
      },
      "source": [
        "# check the first abstract of the training data\n",
        "train_samples[:10]"
      ],
      "execution_count": null,
      "outputs": [
        {
          "output_type": "execute_result",
          "data": {
            "text/plain": [
              "[{'line_number': 0,\n",
              "  'target': 'OBJECTIVE',\n",
              "  'text': 'to investigate the efficacy of @ weeks of daily low-dose oral prednisolone in improving pain , mobility , and systemic low-grade inflammation in the short term and whether the effect would be sustained at @ weeks in older adults with moderate to severe knee osteoarthritis ( oa ) .',\n",
              "  'total_lines': 11},\n",
              " {'line_number': 1,\n",
              "  'target': 'METHODS',\n",
              "  'text': 'a total of @ patients with primary knee oa were randomized @:@ ; @ received @ mg/day of prednisolone and @ received placebo for @ weeks .',\n",
              "  'total_lines': 11},\n",
              " {'line_number': 2,\n",
              "  'target': 'METHODS',\n",
              "  'text': 'outcome measures included pain reduction and improvement in function scores and systemic inflammation markers .',\n",
              "  'total_lines': 11},\n",
              " {'line_number': 3,\n",
              "  'target': 'METHODS',\n",
              "  'text': 'pain was assessed using the visual analog pain scale ( @-@ mm ) .',\n",
              "  'total_lines': 11},\n",
              " {'line_number': 4,\n",
              "  'target': 'METHODS',\n",
              "  'text': 'secondary outcome measures included the western ontario and mcmaster universities osteoarthritis index scores , patient global assessment ( pga ) of the severity of knee oa , and @-min walk distance ( @mwd ) .',\n",
              "  'total_lines': 11},\n",
              " {'line_number': 5,\n",
              "  'target': 'METHODS',\n",
              "  'text': 'serum levels of interleukin @ ( il-@ ) , il-@ , tumor necrosis factor ( tnf ) - , and high-sensitivity c-reactive protein ( hscrp ) were measured .',\n",
              "  'total_lines': 11},\n",
              " {'line_number': 6,\n",
              "  'target': 'RESULTS',\n",
              "  'text': 'there was a clinically relevant reduction in the intervention group compared to the placebo group for knee pain , physical function , pga , and @mwd at @ weeks .',\n",
              "  'total_lines': 11},\n",
              " {'line_number': 7,\n",
              "  'target': 'RESULTS',\n",
              "  'text': 'the mean difference between treatment arms ( @ % ci ) was @ ( @-@ @ ) , p < @ ; @ ( @-@ @ ) , p < @ ; @ ( @-@ @ ) , p < @ ; and @ ( @-@ @ ) , p < @ , respectively .',\n",
              "  'total_lines': 11},\n",
              " {'line_number': 8,\n",
              "  'target': 'RESULTS',\n",
              "  'text': 'further , there was a clinically relevant reduction in the serum levels of il-@ , il-@ , tnf - , and hscrp at @ weeks in the intervention group when compared to the placebo group .',\n",
              "  'total_lines': 11},\n",
              " {'line_number': 9,\n",
              "  'target': 'RESULTS',\n",
              "  'text': 'these differences remained significant at @ weeks .',\n",
              "  'total_lines': 11}]"
            ]
          },
          "metadata": {},
          "execution_count": 13
        }
      ]
    },
    {
      "cell_type": "markdown",
      "metadata": {
        "id": "vUobI6Dl0elW"
      },
      "source": [
        "### Visualizing Data"
      ]
    },
    {
      "cell_type": "code",
      "metadata": {
        "id": "SEepMfWreWUY",
        "colab": {
          "base_uri": "https://localhost:8080/"
        },
        "outputId": "1c5ba7ac-c680-44fb-dca7-71b3a07b6510"
      },
      "source": [
        "# performing visual data analysis on preprocessed data\n",
        "\n",
        "import pandas as pd\n",
        "train_df = pd.DataFrame(train_samples)\n",
        "val_df = pd.DataFrame(val_samples)\n",
        "test_df = pd.DataFrame(test_samples)\n",
        "\n",
        "train_df.head(14)"
      ],
      "execution_count": null,
      "outputs": [
        {
          "output_type": "execute_result",
          "data": {
            "text/html": [
              "<div>\n",
              "<style scoped>\n",
              "    .dataframe tbody tr th:only-of-type {\n",
              "        vertical-align: middle;\n",
              "    }\n",
              "\n",
              "    .dataframe tbody tr th {\n",
              "        vertical-align: top;\n",
              "    }\n",
              "\n",
              "    .dataframe thead th {\n",
              "        text-align: right;\n",
              "    }\n",
              "</style>\n",
              "<table border=\"1\" class=\"dataframe\">\n",
              "  <thead>\n",
              "    <tr style=\"text-align: right;\">\n",
              "      <th></th>\n",
              "      <th>target</th>\n",
              "      <th>text</th>\n",
              "      <th>line_number</th>\n",
              "      <th>total_lines</th>\n",
              "    </tr>\n",
              "  </thead>\n",
              "  <tbody>\n",
              "    <tr>\n",
              "      <th>0</th>\n",
              "      <td>OBJECTIVE</td>\n",
              "      <td>to investigate the efficacy of @ weeks of dail...</td>\n",
              "      <td>0</td>\n",
              "      <td>11</td>\n",
              "    </tr>\n",
              "    <tr>\n",
              "      <th>1</th>\n",
              "      <td>METHODS</td>\n",
              "      <td>a total of @ patients with primary knee oa wer...</td>\n",
              "      <td>1</td>\n",
              "      <td>11</td>\n",
              "    </tr>\n",
              "    <tr>\n",
              "      <th>2</th>\n",
              "      <td>METHODS</td>\n",
              "      <td>outcome measures included pain reduction and i...</td>\n",
              "      <td>2</td>\n",
              "      <td>11</td>\n",
              "    </tr>\n",
              "    <tr>\n",
              "      <th>3</th>\n",
              "      <td>METHODS</td>\n",
              "      <td>pain was assessed using the visual analog pain...</td>\n",
              "      <td>3</td>\n",
              "      <td>11</td>\n",
              "    </tr>\n",
              "    <tr>\n",
              "      <th>4</th>\n",
              "      <td>METHODS</td>\n",
              "      <td>secondary outcome measures included the wester...</td>\n",
              "      <td>4</td>\n",
              "      <td>11</td>\n",
              "    </tr>\n",
              "    <tr>\n",
              "      <th>5</th>\n",
              "      <td>METHODS</td>\n",
              "      <td>serum levels of interleukin @ ( il-@ ) , il-@ ...</td>\n",
              "      <td>5</td>\n",
              "      <td>11</td>\n",
              "    </tr>\n",
              "    <tr>\n",
              "      <th>6</th>\n",
              "      <td>RESULTS</td>\n",
              "      <td>there was a clinically relevant reduction in t...</td>\n",
              "      <td>6</td>\n",
              "      <td>11</td>\n",
              "    </tr>\n",
              "    <tr>\n",
              "      <th>7</th>\n",
              "      <td>RESULTS</td>\n",
              "      <td>the mean difference between treatment arms ( @...</td>\n",
              "      <td>7</td>\n",
              "      <td>11</td>\n",
              "    </tr>\n",
              "    <tr>\n",
              "      <th>8</th>\n",
              "      <td>RESULTS</td>\n",
              "      <td>further , there was a clinically relevant redu...</td>\n",
              "      <td>8</td>\n",
              "      <td>11</td>\n",
              "    </tr>\n",
              "    <tr>\n",
              "      <th>9</th>\n",
              "      <td>RESULTS</td>\n",
              "      <td>these differences remained significant at @ we...</td>\n",
              "      <td>9</td>\n",
              "      <td>11</td>\n",
              "    </tr>\n",
              "    <tr>\n",
              "      <th>10</th>\n",
              "      <td>RESULTS</td>\n",
              "      <td>the outcome measures in rheumatology clinical ...</td>\n",
              "      <td>10</td>\n",
              "      <td>11</td>\n",
              "    </tr>\n",
              "    <tr>\n",
              "      <th>11</th>\n",
              "      <td>CONCLUSIONS</td>\n",
              "      <td>low-dose oral prednisolone had both a short-te...</td>\n",
              "      <td>11</td>\n",
              "      <td>11</td>\n",
              "    </tr>\n",
              "    <tr>\n",
              "      <th>12</th>\n",
              "      <td>BACKGROUND</td>\n",
              "      <td>emotional eating is associated with overeating...</td>\n",
              "      <td>0</td>\n",
              "      <td>10</td>\n",
              "    </tr>\n",
              "    <tr>\n",
              "      <th>13</th>\n",
              "      <td>BACKGROUND</td>\n",
              "      <td>yet , empirical evidence for individual ( trai...</td>\n",
              "      <td>1</td>\n",
              "      <td>10</td>\n",
              "    </tr>\n",
              "  </tbody>\n",
              "</table>\n",
              "</div>"
            ],
            "text/plain": [
              "         target  ... total_lines\n",
              "0     OBJECTIVE  ...          11\n",
              "1       METHODS  ...          11\n",
              "2       METHODS  ...          11\n",
              "3       METHODS  ...          11\n",
              "4       METHODS  ...          11\n",
              "5       METHODS  ...          11\n",
              "6       RESULTS  ...          11\n",
              "7       RESULTS  ...          11\n",
              "8       RESULTS  ...          11\n",
              "9       RESULTS  ...          11\n",
              "10      RESULTS  ...          11\n",
              "11  CONCLUSIONS  ...          11\n",
              "12   BACKGROUND  ...          10\n",
              "13   BACKGROUND  ...          10\n",
              "\n",
              "[14 rows x 4 columns]"
            ]
          },
          "metadata": {},
          "execution_count": 14
        }
      ]
    },
    {
      "cell_type": "code",
      "metadata": {
        "colab": {
          "base_uri": "https://localhost:8080/"
        },
        "id": "Atuj9tCo0LG7",
        "outputId": "d7a03c4f-3942-4855-cf6f-704c125f6378"
      },
      "source": [
        "# distribution of labels\n",
        "train_df.target.value_counts()"
      ],
      "execution_count": null,
      "outputs": [
        {
          "output_type": "execute_result",
          "data": {
            "text/plain": [
              "METHODS        59353\n",
              "RESULTS        57953\n",
              "CONCLUSIONS    27168\n",
              "BACKGROUND     21727\n",
              "OBJECTIVE      13839\n",
              "Name: target, dtype: int64"
            ]
          },
          "metadata": {},
          "execution_count": 15
        }
      ]
    },
    {
      "cell_type": "code",
      "metadata": {
        "colab": {
          "base_uri": "https://localhost:8080/"
        },
        "id": "FHOUJPHA0r8Q",
        "outputId": "f6e41244-d8d6-4cdd-f5f1-a3324d74dcde"
      },
      "source": [
        "#length of different lines\n",
        "train_df.total_lines.plot.hist()"
      ],
      "execution_count": null,
      "outputs": [
        {
          "output_type": "execute_result",
          "data": {
            "text/plain": [
              "<matplotlib.axes._subplots.AxesSubplot at 0x7fb0667ac590>"
            ]
          },
          "metadata": {},
          "execution_count": 16
        },
        {
          "output_type": "display_data",
          "data": {
            "image/png": "[encoded data removed]",
            "text/plain": [
              "<Figure size 432x288 with 1 Axes>"
            ]
          },
          "metadata": {
            "needs_background": "light"
          }
        }
      ]
    },
    {
      "cell_type": "markdown",
      "metadata": {
        "id": "0fmF18ey03RT"
      },
      "source": [
        "### Get a list of sentences"
      ]
    },
    {
      "cell_type": "code",
      "metadata": {
        "colab": {
          "base_uri": "https://localhost:8080/"
        },
        "id": "vQ4Jp7Ej0_-Q",
        "outputId": "159437a6-883b-48db-d625-b39f5ae5830b"
      },
      "source": [
        "# Convert abstract text lines into lists\n",
        "train_sentences = train_df[\"text\"].tolist()\n",
        "val_sentences = val_df[\"text\"].tolist()\n",
        "test_sentences = test_df[\"text\"].tolist()\n",
        "len(train_sentences), len(val_sentences), len(test_sentences)"
      ],
      "execution_count": null,
      "outputs": [
        {
          "output_type": "execute_result",
          "data": {
            "text/plain": [
              "(180040, 30212, 30135)"
            ]
          },
          "metadata": {},
          "execution_count": 17
        }
      ]
    },
    {
      "cell_type": "code",
      "metadata": {
        "colab": {
          "base_uri": "https://localhost:8080/"
        },
        "id": "cd9LWUcT1Xka",
        "outputId": "6ab4813e-34f3-4c41-b814-aca99f333fe2"
      },
      "source": [
        "train_sentences[:10]"
      ],
      "execution_count": null,
      "outputs": [
        {
          "output_type": "execute_result",
          "data": {
            "text/plain": [
              "['to investigate the efficacy of @ weeks of daily low-dose oral prednisolone in improving pain , mobility , and systemic low-grade inflammation in the short term and whether the effect would be sustained at @ weeks in older adults with moderate to severe knee osteoarthritis ( oa ) .',\n",
              " 'a total of @ patients with primary knee oa were randomized @:@ ; @ received @ mg/day of prednisolone and @ received placebo for @ weeks .',\n",
              " 'outcome measures included pain reduction and improvement in function scores and systemic inflammation markers .',\n",
              " 'pain was assessed using the visual analog pain scale ( @-@ mm ) .',\n",
              " 'secondary outcome measures included the western ontario and mcmaster universities osteoarthritis index scores , patient global assessment ( pga ) of the severity of knee oa , and @-min walk distance ( @mwd ) .',\n",
              " 'serum levels of interleukin @ ( il-@ ) , il-@ , tumor necrosis factor ( tnf ) - , and high-sensitivity c-reactive protein ( hscrp ) were measured .',\n",
              " 'there was a clinically relevant reduction in the intervention group compared to the placebo group for knee pain , physical function , pga , and @mwd at @ weeks .',\n",
              " 'the mean difference between treatment arms ( @ % ci ) was @ ( @-@ @ ) , p < @ ; @ ( @-@ @ ) , p < @ ; @ ( @-@ @ ) , p < @ ; and @ ( @-@ @ ) , p < @ , respectively .',\n",
              " 'further , there was a clinically relevant reduction in the serum levels of il-@ , il-@ , tnf - , and hscrp at @ weeks in the intervention group when compared to the placebo group .',\n",
              " 'these differences remained significant at @ weeks .']"
            ]
          },
          "metadata": {},
          "execution_count": 18
        }
      ]
    },
    {
      "cell_type": "markdown",
      "metadata": {
        "id": "5khAajsm14iZ"
      },
      "source": [
        "# Data and Model Training"
      ]
    },
    {
      "cell_type": "markdown",
      "metadata": {
        "id": "pVGnKYKr1Ze6"
      },
      "source": [
        "## Turning data into numeric form"
      ]
    },
    {
      "cell_type": "markdown",
      "metadata": {
        "id": "z0tt25JP1w76"
      },
      "source": [
        "### Onehot Encode Labels"
      ]
    },
    {
      "cell_type": "code",
      "metadata": {
        "colab": {
          "base_uri": "https://localhost:8080/"
        },
        "id": "V-z5D-a-2GdG",
        "outputId": "373cc98d-b395-4aa0-e267-dc004197b037"
      },
      "source": [
        "from sklearn.preprocessing import OneHotEncoder\n",
        "one_hot_encoder = OneHotEncoder(sparse=False)\n",
        "train_labels_one_hot = one_hot_encoder.fit_transform(train_df[\"target\"].to_numpy().reshape(-1, 1))\n",
        "val_labels_one_hot = one_hot_encoder.transform(val_df[\"target\"].to_numpy().reshape(-1, 1))\n",
        "test_labels_one_hot = one_hot_encoder.transform(test_df[\"target\"].to_numpy().reshape(-1, 1))\n",
        "train_labels_one_hot"
      ],
      "execution_count": null,
      "outputs": [
        {
          "output_type": "execute_result",
          "data": {
            "text/plain": [
              "array([[0., 0., 0., 1., 0.],\n",
              "       [0., 0., 1., 0., 0.],\n",
              "       [0., 0., 1., 0., 0.],\n",
              "       ...,\n",
              "       [0., 0., 0., 0., 1.],\n",
              "       [0., 1., 0., 0., 0.],\n",
              "       [0., 1., 0., 0., 0.]])"
            ]
          },
          "metadata": {},
          "execution_count": 19
        }
      ]
    },
    {
      "cell_type": "code",
      "metadata": {
        "colab": {
          "base_uri": "https://localhost:8080/"
        },
        "id": "cBk1vbhy29PO",
        "outputId": "2f16d933-b0d3-4823-b045-54cd6b266e1f"
      },
      "source": [
        "import tensorflow as tf\n",
        "tf.constant(train_labels_one_hot)"
      ],
      "execution_count": null,
      "outputs": [
        {
          "output_type": "execute_result",
          "data": {
            "text/plain": [
              "<tf.Tensor: shape=(180040, 5), dtype=float64, numpy=\n",
              "array([[0., 0., 0., 1., 0.],\n",
              "       [0., 0., 1., 0., 0.],\n",
              "       [0., 0., 1., 0., 0.],\n",
              "       ...,\n",
              "       [0., 0., 0., 0., 1.],\n",
              "       [0., 1., 0., 0., 0.],\n",
              "       [0., 1., 0., 0., 0.]])>"
            ]
          },
          "metadata": {},
          "execution_count": 20
        }
      ]
    },
    {
      "cell_type": "code",
      "metadata": {
        "colab": {
          "base_uri": "https://localhost:8080/"
        },
        "id": "TiuDANyN2R7H",
        "outputId": "d52e2f21-ce34-417f-d6a4-480035789363"
      },
      "source": [
        "import sklearn\n",
        "print(sklearn.__version__)"
      ],
      "execution_count": null,
      "outputs": [
        {
          "output_type": "stream",
          "name": "stdout",
          "text": [
            "0.22.2.post1\n"
          ]
        }
      ]
    },
    {
      "cell_type": "markdown",
      "metadata": {
        "id": "_ZTdz3682Wjd"
      },
      "source": [
        "### Encode Labels"
      ]
    },
    {
      "cell_type": "code",
      "metadata": {
        "colab": {
          "base_uri": "https://localhost:8080/"
        },
        "id": "3HenGoCD3v15",
        "outputId": "9ca36e16-eb04-4c0d-df0a-102760f9af1d"
      },
      "source": [
        "# extract labels (\"target columns\") and encode them into integers\n",
        "from sklearn.preprocessing import LabelEncoder\n",
        "label_encoder = LabelEncoder()\n",
        "train_labels_encoded = label_encoder.fit_transform(train_df[\"target\"].to_numpy())\n",
        "val_labels_encoded = label_encoder.transform(val_df[\"target\"].to_numpy())\n",
        "test_labels_encoded = label_encoder.transform(test_df[\"target\"].to_numpy())\n",
        "\n",
        "# check what the training labels look like\n",
        "train_labels_encoded"
      ],
      "execution_count": null,
      "outputs": [
        {
          "output_type": "execute_result",
          "data": {
            "text/plain": [
              "array([3, 2, 2, ..., 4, 1, 1])"
            ]
          },
          "metadata": {},
          "execution_count": 22
        }
      ]
    },
    {
      "cell_type": "code",
      "metadata": {
        "colab": {
          "base_uri": "https://localhost:8080/"
        },
        "id": "VGZrjKtC8spE",
        "outputId": "903f2944-2280-4470-cb5f-94cdfd94e0a7"
      },
      "source": [
        "# get class names and number of classes from LabelEncoder instance\n",
        "num_classes = len(label_encoder.classes_)\n",
        "class_names = label_encoder.classes_\n",
        "num_classes, class_names"
      ],
      "execution_count": null,
      "outputs": [
        {
          "output_type": "execute_result",
          "data": {
            "text/plain": [
              "(5, array(['BACKGROUND', 'CONCLUSIONS', 'METHODS', 'OBJECTIVE', 'RESULTS'],\n",
              "       dtype=object))"
            ]
          },
          "metadata": {},
          "execution_count": 23
        }
      ]
    },
    {
      "cell_type": "code",
      "metadata": {
        "colab": {
          "base_uri": "https://localhost:8080/"
        },
        "id": "0IFtbnvP_u1f",
        "outputId": "c1d76495-4117-49ae-acd6-eb1c135dec8f"
      },
      "source": [
        "len(val_labels_encoded), len(val_sentences)"
      ],
      "execution_count": null,
      "outputs": [
        {
          "output_type": "execute_result",
          "data": {
            "text/plain": [
              "(30212, 30212)"
            ]
          },
          "metadata": {},
          "execution_count": 24
        }
      ]
    },
    {
      "cell_type": "markdown",
      "metadata": {
        "id": "mtipPaBE9JNC"
      },
      "source": [
        "## Model0: Basline Model(Naive-Bayes Model)"
      ]
    },
    {
      "cell_type": "code",
      "metadata": {
        "colab": {
          "base_uri": "https://localhost:8080/"
        },
        "id": "sYsfPaI_97ku",
        "outputId": "4efb0282-c8af-498f-f847-f93a5190a534"
      },
      "source": [
        "from sklearn.feature_extraction.text import TfidfVectorizer\n",
        "from sklearn.naive_bayes import MultinomialNB\n",
        "from sklearn.pipeline import Pipeline\n",
        "\n",
        "# create a pipeline\n",
        "model0 = Pipeline([\n",
        "                   (\"tf-idf\", TfidfVectorizer()),\n",
        "                   (\"clf\", MultinomialNB())\n",
        "])\n",
        "\n",
        "# fit the pipeline to the training data\n",
        "model0.fit(X=train_sentences,\n",
        "           y=train_labels_encoded)"
      ],
      "execution_count": null,
      "outputs": [
        {
          "output_type": "execute_result",
          "data": {
            "text/plain": [
              "Pipeline(memory=None,\n",
              "         steps=[('tf-idf',\n",
              "                 TfidfVectorizer(analyzer='word', binary=False,\n",
              "                                 decode_error='strict',\n",
              "                                 dtype=<class 'numpy.float64'>,\n",
              "                                 encoding='utf-8', input='content',\n",
              "                                 lowercase=True, max_df=1.0, max_features=None,\n",
              "                                 min_df=1, ngram_range=(1, 1), norm='l2',\n",
              "                                 preprocessor=None, smooth_idf=True,\n",
              "                                 stop_words=None, strip_accents=None,\n",
              "                                 sublinear_tf=False,\n",
              "                                 token_pattern='(?u)\\\\b\\\\w\\\\w+\\\\b',\n",
              "                                 tokenizer=None, use_idf=True,\n",
              "                                 vocabulary=None)),\n",
              "                ('clf',\n",
              "                 MultinomialNB(alpha=1.0, class_prior=None, fit_prior=True))],\n",
              "         verbose=False)"
            ]
          },
          "metadata": {},
          "execution_count": 25
        }
      ]
    },
    {
      "cell_type": "code",
      "metadata": {
        "colab": {
          "base_uri": "https://localhost:8080/"
        },
        "id": "Z-bJr5FM_HHX",
        "outputId": "53e0525b-d66e-45d9-d6c6-0555c371b6e4"
      },
      "source": [
        "# evaluate the baseline model on the validation dataset\n",
        "model0.score(X=val_sentences,\n",
        "                y=val_labels_encoded)"
      ],
      "execution_count": null,
      "outputs": [
        {
          "output_type": "execute_result",
          "data": {
            "text/plain": [
              "0.7218323844829869"
            ]
          },
          "metadata": {},
          "execution_count": 26
        }
      ]
    },
    {
      "cell_type": "code",
      "metadata": {
        "colab": {
          "base_uri": "https://localhost:8080/"
        },
        "id": "pZ8BAxaG_amm",
        "outputId": "37928968-627a-4a07-ce9e-396c0de47ac9"
      },
      "source": [
        "# make predictions using our baseline model\n",
        "baseline_preds = model0.predict(val_sentences)\n",
        "baseline_preds"
      ],
      "execution_count": null,
      "outputs": [
        {
          "output_type": "execute_result",
          "data": {
            "text/plain": [
              "array([4, 1, 3, ..., 4, 4, 1])"
            ]
          },
          "metadata": {},
          "execution_count": 27
        }
      ]
    },
    {
      "cell_type": "code",
      "metadata": {
        "colab": {
          "base_uri": "https://localhost:8080/"
        },
        "id": "WxkIBCNbBpwz",
        "outputId": "2dd52351-8cb9-4d04-bff1-299ebc2f4031"
      },
      "source": [
        "!wget https://raw.githubusercontent.com/mrdbourke/tensorflow-deep-learning/main/extras/helper_functions.py"
      ],
      "execution_count": null,
      "outputs": [
        {
          "output_type": "stream",
          "name": "stdout",
          "text": [
            "--2021-09-23 07:07:46--  https://raw.githubusercontent.com/mrdbourke/tensorflow-deep-learning/main/extras/helper_functions.py\n",
            "Resolving raw.githubusercontent.com (raw.githubusercontent.com)... 185.199.109.133, 185.199.110.133, 185.199.108.133, ...\n",
            "Connecting to raw.githubusercontent.com (raw.githubusercontent.com)|185.199.109.133|:443... connected.\n",
            "HTTP request sent, awaiting response... 200 OK\n",
            "Length: 10246 (10K) [text/plain]\n",
            "Saving to: ‘helper_functions.py.1’\n",
            "\n",
            "\rhelper_functions.py   0%[                    ]       0  --.-KB/s               \rhelper_functions.py 100%[===================>]  10.01K  --.-KB/s    in 0s      \n",
            "\n",
            "2021-09-23 07:07:46 (75.4 MB/s) - ‘helper_functions.py.1’ saved [10246/10246]\n",
            "\n"
          ]
        }
      ]
    },
    {
      "cell_type": "code",
      "metadata": {
        "id": "h3-4jtUdB6vc"
      },
      "source": [
        "from helper_functions import calculate_results"
      ],
      "execution_count": null,
      "outputs": []
    },
    {
      "cell_type": "code",
      "metadata": {
        "colab": {
          "base_uri": "https://localhost:8080/"
        },
        "id": "pPLEM2Y0CFbR",
        "outputId": "fdbf58b6-f279-4c7f-b3df-e9c5a17dd42d"
      },
      "source": [
        "# calculate baseline results\n",
        "baseline_results = calculate_results(y_true=val_labels_encoded,\n",
        "                                     y_pred=baseline_preds)\n",
        "baseline_results"
      ],
      "execution_count": null,
      "outputs": [
        {
          "output_type": "execute_result",
          "data": {
            "text/plain": [
              "{'accuracy': 72.1832384482987,\n",
              " 'f1': 0.6989250353450294,\n",
              " 'precision': 0.7186466952323352,\n",
              " 'recall': 0.7218323844829869}"
            ]
          },
          "metadata": {},
          "execution_count": 30
        }
      ]
    },
    {
      "cell_type": "markdown",
      "metadata": {
        "id": "AUpxdPjcC3OI"
      },
      "source": [
        "## Preparing our data for deep sequence models"
      ]
    },
    {
      "cell_type": "markdown",
      "metadata": {
        "id": "TSzjnfsNC7GE"
      },
      "source": [
        "### Text Vectorization"
      ]
    },
    {
      "cell_type": "code",
      "metadata": {
        "id": "auY2jdaBDCYI"
      },
      "source": [
        "import numpy as np\n",
        "import tensorflow as tf\n",
        "from tensorflow.keras import layers"
      ],
      "execution_count": null,
      "outputs": []
    },
    {
      "cell_type": "code",
      "metadata": {
        "colab": {
          "base_uri": "https://localhost:8080/"
        },
        "id": "gCoO94OxC_Io",
        "outputId": "c79000cd-e06b-45d8-ecba-83472561a211"
      },
      "source": [
        "# how long is each sentence on average?\n",
        "sen_len = [len(sentence.split()) for sentence in train_sentences]\n",
        "avg_sen_len = np.mean(sen_len)\n",
        "avg_sen_len"
      ],
      "execution_count": null,
      "outputs": [
        {
          "output_type": "execute_result",
          "data": {
            "text/plain": [
              "26.338269273494777"
            ]
          },
          "metadata": {},
          "execution_count": 32
        }
      ]
    },
    {
      "cell_type": "code",
      "metadata": {
        "colab": {
          "base_uri": "https://localhost:8080/",
          "height": 411
        },
        "id": "rc5A9Z-PDtq3",
        "outputId": "31d72eb8-fb4f-48ff-f0a3-5e68e2beb71f"
      },
      "source": [
        "# what does the distribution look like?\n",
        "import matplotlib.pyplot as plt\n",
        "plt.hist(sen_len, bins=20)"
      ],
      "execution_count": null,
      "outputs": [
        {
          "output_type": "execute_result",
          "data": {
            "text/plain": [
              "(array([4.2075e+04, 8.3771e+04, 3.6877e+04, 1.0945e+04, 3.9310e+03,\n",
              "        1.4450e+03, 5.6000e+02, 2.2600e+02, 1.0100e+02, 4.5000e+01,\n",
              "        2.0000e+01, 1.2000e+01, 9.0000e+00, 1.0000e+01, 6.0000e+00,\n",
              "        2.0000e+00, 3.0000e+00, 0.0000e+00, 1.0000e+00, 1.0000e+00]),\n",
              " array([  1.  ,  15.75,  30.5 ,  45.25,  60.  ,  74.75,  89.5 , 104.25,\n",
              "        119.  , 133.75, 148.5 , 163.25, 178.  , 192.75, 207.5 , 222.25,\n",
              "        237.  , 251.75, 266.5 , 281.25, 296.  ]),\n",
              " <a list of 20 Patch objects>)"
            ]
          },
          "metadata": {},
          "execution_count": 33
        },
        {
          "output_type": "display_data",
          "data": {
            "image/png": "[encoded data removed]",
            "text/plain": [
              "<Figure size 432x288 with 1 Axes>"
            ]
          },
          "metadata": {
            "needs_background": "light"
          }
        }
      ]
    },
    {
      "cell_type": "code",
      "metadata": {
        "colab": {
          "base_uri": "https://localhost:8080/"
        },
        "id": "OdWSMjhvEAa3",
        "outputId": "8f603697-763c-456d-f7ae-a0528208a9df"
      },
      "source": [
        "# how long of a sentence length covers 95% of the examples?\n",
        "output_seq_len = int(np.percentile(sen_len, 95))\n",
        "output_seq_len"
      ],
      "execution_count": null,
      "outputs": [
        {
          "output_type": "execute_result",
          "data": {
            "text/plain": [
              "55"
            ]
          },
          "metadata": {},
          "execution_count": 34
        }
      ]
    },
    {
      "cell_type": "code",
      "metadata": {
        "colab": {
          "base_uri": "https://localhost:8080/"
        },
        "id": "ZX02j5NjEcCt",
        "outputId": "276ee06e-101b-46fc-8b2e-64554413b0c1"
      },
      "source": [
        "# max sequence length in the training set\n",
        "max(sen_len)"
      ],
      "execution_count": null,
      "outputs": [
        {
          "output_type": "execute_result",
          "data": {
            "text/plain": [
              "296"
            ]
          },
          "metadata": {},
          "execution_count": 35
        }
      ]
    },
    {
      "cell_type": "markdown",
      "metadata": {
        "id": "TUkocesAEj4l"
      },
      "source": [
        "#### Create text vectorizer layer"
      ]
    },
    {
      "cell_type": "code",
      "metadata": {
        "id": "nh4KP1y0E_wz"
      },
      "source": [
        "# how many words in our vocabulary? (taken from table 2 in the Pubmed paper)\n",
        "max_tokens = 68000"
      ],
      "execution_count": null,
      "outputs": []
    },
    {
      "cell_type": "code",
      "metadata": {
        "id": "wHWhtuxZFp86"
      },
      "source": [
        "# create text vectorizer\n",
        "from tensorflow.keras.layers.experimental.preprocessing import TextVectorization\n",
        "\n",
        "text_vectorizer = TextVectorization(max_tokens=max_tokens,\n",
        "                                    output_sequence_length=output_seq_len)"
      ],
      "execution_count": null,
      "outputs": []
    },
    {
      "cell_type": "code",
      "metadata": {
        "id": "OzCOhuTBGFsJ"
      },
      "source": [
        "# adapt the text_vecotrizer to the training sentences\n",
        "text_vectorizer.adapt(train_sentences)"
      ],
      "execution_count": null,
      "outputs": []
    },
    {
      "cell_type": "code",
      "metadata": {
        "colab": {
          "base_uri": "https://localhost:8080/"
        },
        "id": "lf5u_JhFGOpy",
        "outputId": "e6783a2d-0613-4a2b-cbca-4b03b0f00a99"
      },
      "source": [
        "# test out the text vectorizer on random sentences\n",
        "import random\n",
        "target_sentence = random.choice(train_sentences)\n",
        "print(f\"Text:\\n{target_sentence}\")\n",
        "print(f\"\\nLength of Text: {len(target_sentence.split())}\")\n",
        "print(f\"\\nVectorized Text: {text_vectorizer([target_sentence])}\")"
      ],
      "execution_count": null,
      "outputs": [
        {
          "output_type": "stream",
          "name": "stdout",
          "text": [
            "Text:\n",
            "exercise training in bronchiectasis is associated with short term improvement in exercise capacity , dyspnoea and fatigue and fewer exacerbations over @months .\n",
            "\n",
            "Length of Text: 23\n",
            "\n",
            "Vectorized Text: [[ 177  155    5 6430   20   81    7  654 1137  194    5  177  713 5848\n",
            "     3  648    3  704 1787  145   41    0    0    0    0    0    0    0\n",
            "     0    0    0    0    0    0    0    0    0    0    0    0    0    0\n",
            "     0    0    0    0    0    0    0    0    0    0    0    0    0]]\n"
          ]
        }
      ]
    },
    {
      "cell_type": "code",
      "metadata": {
        "colab": {
          "base_uri": "https://localhost:8080/"
        },
        "id": "8qMUb1CyG3rK",
        "outputId": "92368a78-7032-4046-b2bc-3ecd6e46da42"
      },
      "source": [
        "# find the number of words in the training vocab\n",
        "rct_20k_text_vocab = text_vectorizer.get_vocabulary()\n",
        "print(f\"Number of words in vocab: {len(rct_20k_text_vocab)}\")\n",
        "print(f\"Most common words in the vocab: {rct_20k_text_vocab[:5]}\")\n",
        "print(f\"Least common words in the vocab: {rct_20k_text_vocab[-5:]}\")"
      ],
      "execution_count": null,
      "outputs": [
        {
          "output_type": "stream",
          "name": "stdout",
          "text": [
            "Number of words in vocab: 64841\n",
            "Most common words in the vocab: ['', '[UNK]', 'the', 'and', 'of']\n",
            "Least common words in the vocab: ['aainduced', 'aaigroup', 'aachener', 'aachen', 'aaacp']\n"
          ]
        }
      ]
    },
    {
      "cell_type": "code",
      "metadata": {
        "colab": {
          "base_uri": "https://localhost:8080/"
        },
        "id": "vexEgW8WH2xU",
        "outputId": "37c80199-7fab-4ec1-ec04-f116cae45081"
      },
      "source": [
        "# get the config of our text vectorizer\n",
        "text_vectorizer.get_config()"
      ],
      "execution_count": null,
      "outputs": [
        {
          "output_type": "execute_result",
          "data": {
            "text/plain": [
              "{'batch_input_shape': (None,),\n",
              " 'dtype': 'string',\n",
              " 'max_tokens': 68000,\n",
              " 'name': 'text_vectorization',\n",
              " 'ngrams': None,\n",
              " 'output_mode': 'int',\n",
              " 'output_sequence_length': 55,\n",
              " 'pad_to_max_tokens': False,\n",
              " 'split': 'whitespace',\n",
              " 'standardize': 'lower_and_strip_punctuation',\n",
              " 'trainable': True}"
            ]
          },
          "metadata": {},
          "execution_count": 41
        }
      ]
    },
    {
      "cell_type": "markdown",
      "metadata": {
        "id": "PzCMEWl5IInI"
      },
      "source": [
        "#### Creating a custom text embedding layer"
      ]
    },
    {
      "cell_type": "code",
      "metadata": {
        "id": "u1jFUjJqdSmS"
      },
      "source": [
        "# create a token embedding layer\n",
        "token_embed = layers.Embedding(input_dim=len(rct_20k_text_vocab), #length of our vocabulary\n",
        "                               output_dim=128, #different number of embedding sizes result in drastically different number of parameters to train\n",
        "                               mask_zero=True, #use masking to handle variable sequence lengths (saving space)\n",
        "                               name=\"token_embedding\")"
      ],
      "execution_count": null,
      "outputs": []
    },
    {
      "cell_type": "code",
      "metadata": {
        "colab": {
          "base_uri": "https://localhost:8080/"
        },
        "id": "iB9HtYFqeNAX",
        "outputId": "ac61f271-e348-44f5-afab-79fa33c831a8"
      },
      "source": [
        "#show example embedding\n",
        "print(f\"Sentence before vectorization:\\n {target_sentence}\\n\")\n",
        "vectorized_sentence = text_vectorizer([target_sentence])\n",
        "print(f\"Sentence after vectorization (before embedding):\\n {vectorized_sentence}\\n\")\n",
        "embedded_sentence = token_embed(vectorized_sentence)\n",
        "print(f\"Sentence after embedding:\\n {embedded_sentence}\\n\")\n",
        "print(f\"Embedded Sentence shape: {embedded_sentence.shape}\")"
      ],
      "execution_count": null,
      "outputs": [
        {
          "output_type": "stream",
          "name": "stdout",
          "text": [
            "Sentence before vectorization:\n",
            " exercise training in bronchiectasis is associated with short term improvement in exercise capacity , dyspnoea and fatigue and fewer exacerbations over @months .\n",
            "\n",
            "Sentence after vectorization (before embedding):\n",
            " [[ 177  155    5 6430   20   81    7  654 1137  194    5  177  713 5848\n",
            "     3  648    3  704 1787  145   41    0    0    0    0    0    0    0\n",
            "     0    0    0    0    0    0    0    0    0    0    0    0    0    0\n",
            "     0    0    0    0    0    0    0    0    0    0    0    0    0]]\n",
            "\n",
            "Sentence after embedding:\n",
            " [[[ 0.01692576 -0.02273372  0.01312957 ...  0.03452737 -0.01472572\n",
            "    0.03340793]\n",
            "  [-0.03295275  0.01102179 -0.01063312 ...  0.04240601 -0.04201542\n",
            "    0.03586967]\n",
            "  [-0.03644479 -0.03300389 -0.02187313 ... -0.03998985  0.02817163\n",
            "   -0.04774925]\n",
            "  ...\n",
            "  [-0.03082731 -0.02260734 -0.0208352  ... -0.00201049 -0.01004082\n",
            "   -0.04390937]\n",
            "  [-0.03082731 -0.02260734 -0.0208352  ... -0.00201049 -0.01004082\n",
            "   -0.04390937]\n",
            "  [-0.03082731 -0.02260734 -0.0208352  ... -0.00201049 -0.01004082\n",
            "   -0.04390937]]]\n",
            "\n",
            "Embedded Sentence shape: (1, 55, 128)\n"
          ]
        }
      ]
    },
    {
      "cell_type": "markdown",
      "metadata": {
        "id": "Kfo8qDAowTeY"
      },
      "source": [
        "### Creating datasets (making sure our data loads as fast as possible)"
      ]
    },
    {
      "cell_type": "code",
      "metadata": {
        "colab": {
          "base_uri": "https://localhost:8080/"
        },
        "id": "xFPbHJX_w6y1",
        "outputId": "ea707cc4-0b76-4a44-a648-fab406377148"
      },
      "source": [
        "# turn our data into tensorflow datasets\n",
        "train_dataset = tf.data.Dataset.from_tensor_slices((train_sentences, train_labels_one_hot))\n",
        "valid_dataset = tf.data.Dataset.from_tensor_slices((val_sentences, val_labels_one_hot))\n",
        "test_dataset = tf.data.Dataset.from_tensor_slices((test_sentences, test_labels_one_hot))\n",
        "\n",
        "train_dataset"
      ],
      "execution_count": null,
      "outputs": [
        {
          "output_type": "execute_result",
          "data": {
            "text/plain": [
              "<TensorSliceDataset shapes: ((), (5,)), types: (tf.string, tf.float64)>"
            ]
          },
          "metadata": {},
          "execution_count": 44
        }
      ]
    },
    {
      "cell_type": "code",
      "metadata": {
        "id": "wY4YJxXuxqUX",
        "colab": {
          "base_uri": "https://localhost:8080/"
        },
        "outputId": "1ca5939e-9b87-404d-aaf7-83f084a3d6b4"
      },
      "source": [
        "# take the tensor slice datasets and turn them into prefetched datasets\n",
        "train_dataset = train_dataset.batch(32).prefetch(tf.data.AUTOTUNE)\n",
        "valid_dataset = valid_dataset.batch(32).prefetch(tf.data.AUTOTUNE)\n",
        "test_dataset = test_dataset.batch(32).prefetch(tf.data.AUTOTUNE)\n",
        "\n",
        "train_dataset"
      ],
      "execution_count": null,
      "outputs": [
        {
          "output_type": "execute_result",
          "data": {
            "text/plain": [
              "<PrefetchDataset shapes: ((None,), (None, 5)), types: (tf.string, tf.float64)>"
            ]
          },
          "metadata": {},
          "execution_count": 45
        }
      ]
    },
    {
      "cell_type": "markdown",
      "metadata": {
        "id": "_4HLZh3D5u4E"
      },
      "source": [
        "## Model 1: Conv1D Model"
      ]
    },
    {
      "cell_type": "code",
      "metadata": {
        "id": "0W0VLsOY6nvH"
      },
      "source": [
        "# creating tensorboard callback\n",
        "from helper_functions import create_tensorboard_callback\n",
        "\n",
        "# create a directory to save the logs\n",
        "save_dir = \"model_logs\""
      ],
      "execution_count": null,
      "outputs": []
    },
    {
      "cell_type": "code",
      "metadata": {
        "id": "AjLOQ_Yh69tI"
      },
      "source": [
        "# build a model with functional API\n",
        "from tensorflow.keras import layers\n",
        "inputs = layers.Input(shape=(1,), dtype=tf.string) # inputs are one-dimensional strings\n",
        "text_vector = text_vectorizer(inputs) # turn the input string into numbers\n",
        "embedding = token_embed(text_vector) # create an embedding of the numberized inputs\n",
        "x = layers.Conv1D(64, kernel_size=5, padding=\"same\", activation=\"relu\")(embedding)\n",
        "x = layers.GlobalAveragePooling1D()(x) # condense the feature vecture for each token to one vector\n",
        "outputs = layers.Dense(num_classes, activation=\"softmax\")(x)\n",
        "model1 = tf.keras.Model(inputs, outputs, name=\"model_1_conv1d\")\n",
        "\n",
        "# compile\n",
        "model1.compile(loss=\"categorical_crossentropy\",\n",
        "               optimizer=tf.keras.optimizers.Adam(),\n",
        "               metrics=['accuracy'])"
      ],
      "execution_count": null,
      "outputs": []
    },
    {
      "cell_type": "code",
      "metadata": {
        "colab": {
          "base_uri": "https://localhost:8080/"
        },
        "id": "X7Yhdyln8OzT",
        "outputId": "128ff5da-5659-428c-c061-cae0b1a8847c"
      },
      "source": [
        "model1.summary()"
      ],
      "execution_count": null,
      "outputs": [
        {
          "output_type": "stream",
          "name": "stdout",
          "text": [
            "Model: \"model_1_conv1d\"\n",
            "_________________________________________________________________\n",
            "Layer (type)                 Output Shape              Param #   \n",
            "=================================================================\n",
            "input_1 (InputLayer)         [(None, 1)]               0         \n",
            "_________________________________________________________________\n",
            "text_vectorization (TextVect (None, 55)                0         \n",
            "_________________________________________________________________\n",
            "token_embedding (Embedding)  (None, 55, 128)           8299648   \n",
            "_________________________________________________________________\n",
            "conv1d (Conv1D)              (None, 55, 64)            41024     \n",
            "_________________________________________________________________\n",
            "global_average_pooling1d (Gl (None, 64)                0         \n",
            "_________________________________________________________________\n",
            "dense (Dense)                (None, 5)                 325       \n",
            "=================================================================\n",
            "Total params: 8,340,997\n",
            "Trainable params: 8,340,997\n",
            "Non-trainable params: 0\n",
            "_________________________________________________________________\n"
          ]
        }
      ]
    },
    {
      "cell_type": "code",
      "metadata": {
        "colab": {
          "base_uri": "https://localhost:8080/"
        },
        "id": "Jwsxd2FV-BNT",
        "outputId": "2df1fe55-370a-4dd2-f54e-e3f4aca89c78"
      },
      "source": [
        "# fit the model\n",
        "history_model1 = model1.fit(train_dataset,\n",
        "                            steps_per_epoch=int(0.1*len(train_dataset)),\n",
        "                            epochs=3,\n",
        "                            validation_data=valid_dataset,\n",
        "                            validation_steps=int(0.1*len(valid_dataset)))"
      ],
      "execution_count": null,
      "outputs": [
        {
          "output_type": "stream",
          "name": "stdout",
          "text": [
            "Epoch 1/3\n",
            "562/562 [==============================] - 39s 14ms/step - loss: 0.9198 - accuracy: 0.6372 - val_loss: 0.6850 - val_accuracy: 0.7390\n",
            "Epoch 2/3\n",
            "562/562 [==============================] - 7s 13ms/step - loss: 0.6555 - accuracy: 0.7576 - val_loss: 0.6272 - val_accuracy: 0.7779\n",
            "Epoch 3/3\n",
            "562/562 [==============================] - 7s 13ms/step - loss: 0.6140 - accuracy: 0.7780 - val_loss: 0.5931 - val_accuracy: 0.7869\n"
          ]
        }
      ]
    },
    {
      "cell_type": "code",
      "metadata": {
        "colab": {
          "base_uri": "https://localhost:8080/"
        },
        "id": "tcQWzkpV_Fh6",
        "outputId": "ecd02478-4e70-4d9c-b402-f6c5311c9ea9"
      },
      "source": [
        "# evaluate on whole dataset\n",
        "model1.evaluate(valid_dataset)"
      ],
      "execution_count": null,
      "outputs": [
        {
          "output_type": "stream",
          "name": "stdout",
          "text": [
            "945/945 [==============================] - 4s 4ms/step - loss: 0.5952 - accuracy: 0.7894\n"
          ]
        },
        {
          "output_type": "execute_result",
          "data": {
            "text/plain": [
              "[0.5952125787734985, 0.7894214391708374]"
            ]
          },
          "metadata": {},
          "execution_count": 50
        }
      ]
    },
    {
      "cell_type": "code",
      "metadata": {
        "colab": {
          "base_uri": "https://localhost:8080/"
        },
        "id": "geOdfNiF_dsP",
        "outputId": "06c0d9e7-b507-4178-e77b-bc71433979f5"
      },
      "source": [
        "# make predictions\n",
        "model1_pred_probs = model1.predict(valid_dataset)\n",
        "model1_pred_probs, model1_pred_probs.shape"
      ],
      "execution_count": null,
      "outputs": [
        {
          "output_type": "execute_result",
          "data": {
            "text/plain": [
              "(array([[4.7252384e-01, 1.3156420e-01, 7.7156067e-02, 2.9580498e-01,\n",
              "         2.2950942e-02],\n",
              "        [4.3569276e-01, 2.6641583e-01, 1.4225256e-02, 2.7680141e-01,\n",
              "         6.8646800e-03],\n",
              "        [1.3720994e-01, 8.5702334e-03, 1.1737559e-03, 8.5302097e-01,\n",
              "         2.5092859e-05],\n",
              "        ...,\n",
              "        [6.7688452e-06, 6.3063827e-04, 4.9989292e-04, 3.5776316e-06,\n",
              "         9.9885917e-01],\n",
              "        [6.4874351e-02, 4.4597846e-01, 1.3238451e-01, 7.5337715e-02,\n",
              "         2.8142497e-01],\n",
              "        [1.2548102e-01, 7.3207843e-01, 3.6356770e-02, 4.2998623e-02,\n",
              "         6.3085191e-02]], dtype=float32), (30212, 5))"
            ]
          },
          "metadata": {},
          "execution_count": 51
        }
      ]
    },
    {
      "cell_type": "code",
      "metadata": {
        "colab": {
          "base_uri": "https://localhost:8080/"
        },
        "id": "_11nk1ha_wwx",
        "outputId": "96f4c5cc-d99b-4933-a7b2-f2c86505fb02"
      },
      "source": [
        "# convert pred probs to classes\n",
        "model1_preds = tf.argmax(model1_pred_probs, axis=1)\n",
        "model1_preds"
      ],
      "execution_count": null,
      "outputs": [
        {
          "output_type": "execute_result",
          "data": {
            "text/plain": [
              "<tf.Tensor: shape=(30212,), dtype=int64, numpy=array([0, 0, 3, ..., 4, 1, 1])>"
            ]
          },
          "metadata": {},
          "execution_count": 52
        }
      ]
    },
    {
      "cell_type": "code",
      "metadata": {
        "colab": {
          "base_uri": "https://localhost:8080/"
        },
        "id": "Awz66NoNAD8i",
        "outputId": "fb9b63bb-da58-4926-f020-b4134f84edac"
      },
      "source": [
        "# caluclate model1 results\n",
        "model1_results = calculate_results(y_true=val_labels_encoded,\n",
        "                                   y_pred=model1_preds)\n",
        "model1_results"
      ],
      "execution_count": null,
      "outputs": [
        {
          "output_type": "execute_result",
          "data": {
            "text/plain": [
              "{'accuracy': 78.94214219515425,\n",
              " 'f1': 0.7872712506368144,\n",
              " 'precision': 0.7863465134226673,\n",
              " 'recall': 0.7894214219515424}"
            ]
          },
          "metadata": {},
          "execution_count": 53
        }
      ]
    },
    {
      "cell_type": "markdown",
      "metadata": {
        "id": "CakyKxXbAU3x"
      },
      "source": [
        "## Model 2: Tensorflow Hub Pretrained Feature Extractor"
      ]
    },
    {
      "cell_type": "code",
      "metadata": {
        "id": "v0D7WX-xAkYs"
      },
      "source": [
        "# download pretrained tensorflow hub USE\n",
        "import tensorflow_hub as hub\n",
        "tf_hub_embedding_layer = hub.KerasLayer(\"https://tfhub.dev/google/universal-sentence-encoder/4\",\n",
        "                                        trainable=False,\n",
        "                                        name=\"universal_sentence_encoder\")"
      ],
      "execution_count": null,
      "outputs": []
    },
    {
      "cell_type": "code",
      "metadata": {
        "colab": {
          "base_uri": "https://localhost:8080/"
        },
        "id": "taBZ1QjeGOrD",
        "outputId": "2e67b894-7fea-4c85-e112-8faa6dd0451a"
      },
      "source": [
        "# test out the pretrained embedding on a random sentence\n",
        "random_train_sentence = random.choice(train_sentences)\n",
        "print(f\"Random Sentence:\\n {random_train_sentence}\")\n",
        "use_embedded_sentence = tf_hub_embedding_layer([random_train_sentence])\n",
        "print(f\"Sentence after embedding:\\n{use_embedded_sentence[0][:30]}\\n\")\n",
        "print(f\"Length of sentence embedding: {len(use_embedded_sentence[0])}\")"
      ],
      "execution_count": null,
      "outputs": [
        {
          "output_type": "stream",
          "name": "stdout",
          "text": [
            "Random Sentence:\n",
            " only self-report measures were used .\n",
            "Sentence after embedding:\n",
            "[-0.08580722  0.03024062 -0.08003022 -0.08351205  0.00502051 -0.03644279\n",
            " -0.06304596 -0.01064676 -0.0787973   0.00057133  0.03424656 -0.00553901\n",
            "  0.02861192 -0.07326545  0.05995728  0.06121751  0.02575439  0.04866775\n",
            " -0.02233705 -0.05056724  0.00719902  0.01276964 -0.0245626  -0.00443702\n",
            " -0.03313075  0.03948226  0.09386492 -0.02158432  0.09556834  0.03854415]\n",
            "\n",
            "Length of sentence embedding: 512\n"
          ]
        }
      ]
    },
    {
      "cell_type": "markdown",
      "metadata": {
        "id": "Ey6HnSI3G9bk"
      },
      "source": [
        "### Building and fitting our NLP feature extraction model using pretrained embeddings Tensorflow Hub"
      ]
    },
    {
      "cell_type": "code",
      "metadata": {
        "id": "JpAT4f_gHpfh"
      },
      "source": [
        "# define feature extraction model using TF hub layer\n",
        "inputs = layers.Input(shape=[], dtype=tf.string)\n",
        "pretrained_embedding = tf_hub_embedding_layer(inputs) # tokenize text and create embedding of each sequence (512 long vector)\n",
        "x = layers.Dense(128, activation=\"relu\")(pretrained_embedding)\n",
        "# can add more layers if u want\n",
        "outputs = layers.Dense(num_classes, activation=\"softmax\")(x)\n",
        "model2 = tf.keras.Model(inputs=inputs,\n",
        "                        outputs=outputs,\n",
        "                        name=\"model2_USE_feature_extractor\")\n",
        "\n",
        "# compile the model\n",
        "model2.compile(loss=\"categorical_crossentropy\",\n",
        "               optimizer=tf.keras.optimizers.Adam(),\n",
        "               metrics=[\"accuracy\"])"
      ],
      "execution_count": null,
      "outputs": []
    },
    {
      "cell_type": "code",
      "metadata": {
        "colab": {
          "base_uri": "https://localhost:8080/"
        },
        "id": "m0v1QdAzIyPH",
        "outputId": "2597d9fd-905f-447f-e5f4-0350442cd056"
      },
      "source": [
        "model2.summary()"
      ],
      "execution_count": null,
      "outputs": [
        {
          "output_type": "stream",
          "name": "stdout",
          "text": [
            "Model: \"model2_USE_feature_extractor\"\n",
            "_________________________________________________________________\n",
            "Layer (type)                 Output Shape              Param #   \n",
            "=================================================================\n",
            "input_2 (InputLayer)         [(None,)]                 0         \n",
            "_________________________________________________________________\n",
            "universal_sentence_encoder ( (None, 512)               256797824 \n",
            "_________________________________________________________________\n",
            "dense_1 (Dense)              (None, 128)               65664     \n",
            "_________________________________________________________________\n",
            "dense_2 (Dense)              (None, 5)                 645       \n",
            "=================================================================\n",
            "Total params: 256,864,133\n",
            "Trainable params: 66,309\n",
            "Non-trainable params: 256,797,824\n",
            "_________________________________________________________________\n"
          ]
        }
      ]
    },
    {
      "cell_type": "code",
      "metadata": {
        "colab": {
          "base_uri": "https://localhost:8080/"
        },
        "id": "kJbgTEQSI7jn",
        "outputId": "88e04511-c9ab-4132-f032-af0b5b06ae0d"
      },
      "source": [
        "# fitting the model\n",
        "history_model2 = model2.fit(train_dataset,\n",
        "                            epochs=3,\n",
        "                            steps_per_epoch=int(0.1*len(train_dataset)),\n",
        "                            validation_data=valid_dataset,\n",
        "                            validation_steps = int(0.1*len(valid_dataset)))"
      ],
      "execution_count": null,
      "outputs": [
        {
          "output_type": "stream",
          "name": "stdout",
          "text": [
            "Epoch 1/3\n",
            "562/562 [==============================] - 13s 19ms/step - loss: 0.9119 - accuracy: 0.6494 - val_loss: 0.7967 - val_accuracy: 0.6892\n",
            "Epoch 2/3\n",
            "562/562 [==============================] - 10s 18ms/step - loss: 0.7696 - accuracy: 0.7015 - val_loss: 0.7544 - val_accuracy: 0.7045\n",
            "Epoch 3/3\n",
            "562/562 [==============================] - 10s 18ms/step - loss: 0.7532 - accuracy: 0.7121 - val_loss: 0.7391 - val_accuracy: 0.7128\n"
          ]
        }
      ]
    },
    {
      "cell_type": "code",
      "metadata": {
        "colab": {
          "base_uri": "https://localhost:8080/"
        },
        "id": "PmlHyRGHJYSx",
        "outputId": "53fa50e7-4095-4fe1-dfc9-0508b08f39c9"
      },
      "source": [
        "# evaluating the model\n",
        "model2.evaluate(valid_dataset)"
      ],
      "execution_count": null,
      "outputs": [
        {
          "output_type": "stream",
          "name": "stdout",
          "text": [
            "945/945 [==============================] - 15s 16ms/step - loss: 0.7423 - accuracy: 0.7131\n"
          ]
        },
        {
          "output_type": "execute_result",
          "data": {
            "text/plain": [
              "[0.7423176169395447, 0.7130941152572632]"
            ]
          },
          "metadata": {},
          "execution_count": 59
        }
      ]
    },
    {
      "cell_type": "code",
      "metadata": {
        "colab": {
          "base_uri": "https://localhost:8080/"
        },
        "id": "AypBhREEJqpY",
        "outputId": "7ef3ee9f-1a43-4f9e-e833-eb3193031d3e"
      },
      "source": [
        "# make predictions with the feature extraction model\n",
        "model2_pred_probs = model2.predict(valid_dataset)\n",
        "model2_pred_probs"
      ],
      "execution_count": null,
      "outputs": [
        {
          "output_type": "execute_result",
          "data": {
            "text/plain": [
              "array([[4.4573170e-01, 3.3616152e-01, 2.4302076e-03, 2.0761465e-01,\n",
              "        8.0618765e-03],\n",
              "       [3.1951436e-01, 5.1891518e-01, 3.9134035e-03, 1.5444413e-01,\n",
              "        3.2129074e-03],\n",
              "       [2.2545113e-01, 1.3267870e-01, 1.6804777e-02, 5.8863419e-01,\n",
              "        3.6431201e-02],\n",
              "       ...,\n",
              "       [1.9067324e-03, 5.5450732e-03, 4.7958735e-02, 8.2873751e-04,\n",
              "        9.4376075e-01],\n",
              "       [3.2733332e-03, 4.7841664e-02, 2.0692736e-01, 1.4133911e-03,\n",
              "        7.4054420e-01],\n",
              "       [1.3134140e-01, 2.6087612e-01, 5.3694248e-01, 5.0117434e-03,\n",
              "        6.5828204e-02]], dtype=float32)"
            ]
          },
          "metadata": {},
          "execution_count": 60
        }
      ]
    },
    {
      "cell_type": "code",
      "metadata": {
        "colab": {
          "base_uri": "https://localhost:8080/"
        },
        "id": "W_pfoqJJJ1bz",
        "outputId": "bb70f0a1-502e-40c9-8add-a365859ac9a1"
      },
      "source": [
        "# convert the predictions probabilities found with feature extraction model to labels\n",
        "model2_preds = tf.argmax(model2_pred_probs, axis=1)\n",
        "model2_preds"
      ],
      "execution_count": null,
      "outputs": [
        {
          "output_type": "execute_result",
          "data": {
            "text/plain": [
              "<tf.Tensor: shape=(30212,), dtype=int64, numpy=array([0, 1, 3, ..., 4, 4, 2])>"
            ]
          },
          "metadata": {},
          "execution_count": 61
        }
      ]
    },
    {
      "cell_type": "code",
      "metadata": {
        "colab": {
          "base_uri": "https://localhost:8080/"
        },
        "id": "VLbE5hnMKIR6",
        "outputId": "80c51d00-aa48-4853-f3e4-27c7484d6cad"
      },
      "source": [
        "# calculate results from TF hub pretrained embeddings results on val set\n",
        "model2_results = calculate_results(y_true=val_labels_encoded,\n",
        "                                   y_pred=model2_preds)\n",
        "model2_results"
      ],
      "execution_count": null,
      "outputs": [
        {
          "output_type": "execute_result",
          "data": {
            "text/plain": [
              "{'accuracy': 71.30941347808817,\n",
              " 'f1': 0.7104563276495303,\n",
              " 'precision': 0.7138419791750997,\n",
              " 'recall': 0.7130941347808818}"
            ]
          },
          "metadata": {},
          "execution_count": 62
        }
      ]
    },
    {
      "cell_type": "markdown",
      "metadata": {
        "id": "g2y8S5Z2KcBq"
      },
      "source": [
        "## Model 3: Conv1D using character level embedding"
      ]
    },
    {
      "cell_type": "markdown",
      "metadata": {
        "id": "0678Xqm0Kz-Q"
      },
      "source": [
        "### Creating a character-level tokenizer with Tensorflow's TextVectorization layer"
      ]
    },
    {
      "cell_type": "code",
      "metadata": {
        "colab": {
          "base_uri": "https://localhost:8080/",
          "height": 36
        },
        "id": "kpHk9LwjK_d7",
        "outputId": "262d5a69-6b91-46e3-cb35-6caf1f5e7587"
      },
      "source": [
        "# make a function to split sentences into characters\n",
        "def split_chars(text):\n",
        "  return \" \".join(list(text))\n",
        "\n",
        "# text splitting non_character-level sequence into characters\n",
        "split_chars(random_train_sentence)"
      ],
      "execution_count": null,
      "outputs": [
        {
          "output_type": "execute_result",
          "data": {
            "application/vnd.google.colaboratory.intrinsic+json": {
              "type": "string"
            },
            "text/plain": [
              "'o n l y   s e l f - r e p o r t   m e a s u r e s   w e r e   u s e d   .'"
            ]
          },
          "metadata": {},
          "execution_count": 63
        }
      ]
    },
    {
      "cell_type": "code",
      "metadata": {
        "colab": {
          "base_uri": "https://localhost:8080/"
        },
        "id": "BGSfroeEMShD",
        "outputId": "7f7a333b-65ef-456e-9658-a34496a42416"
      },
      "source": [
        "# split sequence-level data splits into character-level data splits\n",
        "train_chars = [split_chars(sentence) for sentence in train_sentences]\n",
        "val_chars = [split_chars(sentence) for sentence in val_sentences]\n",
        "test_chars = [split_chars(sentence) for sentence in test_sentences]\n",
        "\n",
        "train_chars[:5]"
      ],
      "execution_count": null,
      "outputs": [
        {
          "output_type": "execute_result",
          "data": {
            "text/plain": [
              "['t o   i n v e s t i g a t e   t h e   e f f i c a c y   o f   @   w e e k s   o f   d a i l y   l o w - d o s e   o r a l   p r e d n i s o l o n e   i n   i m p r o v i n g   p a i n   ,   m o b i l i t y   ,   a n d   s y s t e m i c   l o w - g r a d e   i n f l a m m a t i o n   i n   t h e   s h o r t   t e r m   a n d   w h e t h e r   t h e   e f f e c t   w o u l d   b e   s u s t a i n e d   a t   @   w e e k s   i n   o l d e r   a d u l t s   w i t h   m o d e r a t e   t o   s e v e r e   k n e e   o s t e o a r t h r i t i s   (   o a   )   .',\n",
              " 'a   t o t a l   o f   @   p a t i e n t s   w i t h   p r i m a r y   k n e e   o a   w e r e   r a n d o m i z e d   @ : @   ;   @   r e c e i v e d   @   m g / d a y   o f   p r e d n i s o l o n e   a n d   @   r e c e i v e d   p l a c e b o   f o r   @   w e e k s   .',\n",
              " 'o u t c o m e   m e a s u r e s   i n c l u d e d   p a i n   r e d u c t i o n   a n d   i m p r o v e m e n t   i n   f u n c t i o n   s c o r e s   a n d   s y s t e m i c   i n f l a m m a t i o n   m a r k e r s   .',\n",
              " 'p a i n   w a s   a s s e s s e d   u s i n g   t h e   v i s u a l   a n a l o g   p a i n   s c a l e   (   @ - @   m m   )   .',\n",
              " 's e c o n d a r y   o u t c o m e   m e a s u r e s   i n c l u d e d   t h e   w e s t e r n   o n t a r i o   a n d   m c m a s t e r   u n i v e r s i t i e s   o s t e o a r t h r i t i s   i n d e x   s c o r e s   ,   p a t i e n t   g l o b a l   a s s e s s m e n t   (   p g a   )   o f   t h e   s e v e r i t y   o f   k n e e   o a   ,   a n d   @ - m i n   w a l k   d i s t a n c e   (   @ m w d   )   .']"
            ]
          },
          "metadata": {},
          "execution_count": 64
        }
      ]
    },
    {
      "cell_type": "code",
      "metadata": {
        "colab": {
          "base_uri": "https://localhost:8080/"
        },
        "id": "dtmQi037NM34",
        "outputId": "89b4c708-409a-42f4-bdfc-7331039ad7c2"
      },
      "source": [
        "# avg character length\n",
        "char_length = [len(sentence) for sentence in train_sentences]\n",
        "mean_char_len = np.mean(char_length)\n",
        "mean_char_len"
      ],
      "execution_count": null,
      "outputs": [
        {
          "output_type": "execute_result",
          "data": {
            "text/plain": [
              "149.3662574983337"
            ]
          },
          "metadata": {},
          "execution_count": 65
        }
      ]
    },
    {
      "cell_type": "code",
      "metadata": {
        "colab": {
          "base_uri": "https://localhost:8080/",
          "height": 356
        },
        "id": "nFxB9m12NfT5",
        "outputId": "79d1936d-c3c2-4f1d-e142-6f9a465ba766"
      },
      "source": [
        "# check the distribution of the of our sequences at a character-level\n",
        "import matplotlib.pyplot as plt\n",
        "plt.hist(char_length, bins=7)"
      ],
      "execution_count": null,
      "outputs": [
        {
          "output_type": "execute_result",
          "data": {
            "text/plain": [
              "(array([1.41175e+05, 3.71110e+04, 1.60000e+03, 1.27000e+02, 2.10000e+01,\n",
              "        5.00000e+00, 1.00000e+00]),\n",
              " array([1.00000000e+00, 1.98857143e+02, 3.96714286e+02, 5.94571429e+02,\n",
              "        7.92428571e+02, 9.90285714e+02, 1.18814286e+03, 1.38600000e+03]),\n",
              " <a list of 7 Patch objects>)"
            ]
          },
          "metadata": {},
          "execution_count": 66
        },
        {
          "output_type": "display_data",
          "data": {
            "image/png": "[encoded data removed]",
            "text/plain": [
              "<Figure size 432x288 with 1 Axes>"
            ]
          },
          "metadata": {
            "needs_background": "light"
          }
        }
      ]
    },
    {
      "cell_type": "code",
      "metadata": {
        "colab": {
          "base_uri": "https://localhost:8080/"
        },
        "id": "iT1A9VWMN2IO",
        "outputId": "7d693d21-ee44-4cff-9ac1-534b2d65bfab"
      },
      "source": [
        "# find what character length covers 95% of sequences\n",
        "output_seq_char_len = int(np.percentile(char_length, 95))\n",
        "output_seq_char_len"
      ],
      "execution_count": null,
      "outputs": [
        {
          "output_type": "execute_result",
          "data": {
            "text/plain": [
              "290"
            ]
          },
          "metadata": {},
          "execution_count": 67
        }
      ]
    },
    {
      "cell_type": "code",
      "metadata": {
        "colab": {
          "base_uri": "https://localhost:8080/",
          "height": 36
        },
        "id": "urZCEIZ2OLO8",
        "outputId": "5d0d6d75-f630-415e-9797-d0ed75cedf72"
      },
      "source": [
        "# get all keyboard characters\n",
        "import string\n",
        "alphabet = string.ascii_lowercase + string.digits + string.punctuation\n",
        "alphabet"
      ],
      "execution_count": null,
      "outputs": [
        {
          "output_type": "execute_result",
          "data": {
            "application/vnd.google.colaboratory.intrinsic+json": {
              "type": "string"
            },
            "text/plain": [
              "'abcdefghijklmnopqrstuvwxyz0123456789!\"#$%&\\'()*+,-./:;<=>?@[\\\\]^_`{|}~'"
            ]
          },
          "metadata": {},
          "execution_count": 68
        }
      ]
    },
    {
      "cell_type": "code",
      "metadata": {
        "id": "8f_GzNrpPKpk"
      },
      "source": [
        "# create char level token vectorizer instance\n",
        "num_char_tokens = len(alphabet) + 2 # add 2 for space and OOV token (OOV = out of vocab, '[UNK]')\n",
        "char_vectorizer = TextVectorization(max_tokens=num_char_tokens,\n",
        "                                     output_sequence_length=output_seq_char_len,\n",
        "                                     #standardize=None,\n",
        "                                     name=\"char_vectorizer\")"
      ],
      "execution_count": null,
      "outputs": []
    },
    {
      "cell_type": "code",
      "metadata": {
        "id": "l3yrq6KnP4zC"
      },
      "source": [
        "# adapt character vectorizer to training character\n",
        "char_vectorizer.adapt(train_chars)"
      ],
      "execution_count": null,
      "outputs": []
    },
    {
      "cell_type": "code",
      "metadata": {
        "colab": {
          "base_uri": "https://localhost:8080/"
        },
        "id": "msvBW7kjQQk0",
        "outputId": "6a5dc372-349c-4f25-c999-2e42bff16f7b"
      },
      "source": [
        "# check character vocab stats\n",
        "char_vocab = char_vectorizer.get_vocabulary()\n",
        "print(f\"Number of different characters in character in character vocab: {len(char_vocab)}\")\n",
        "print(f\"5 most common characters: {char_vocab[:5]}\")\n",
        "print(f\"5 least common characters: {char_vocab[-5:]}\")"
      ],
      "execution_count": null,
      "outputs": [
        {
          "output_type": "stream",
          "name": "stdout",
          "text": [
            "Number of different characters in character in character vocab: 28\n",
            "5 most common characters: ['', '[UNK]', 'e', 't', 'i']\n",
            "5 least common characters: ['k', 'x', 'z', 'q', 'j']\n"
          ]
        }
      ]
    },
    {
      "cell_type": "code",
      "metadata": {
        "colab": {
          "base_uri": "https://localhost:8080/"
        },
        "id": "rOV5aUMOQvGH",
        "outputId": "efc2dc53-886d-47dc-e458-5f9e5a108080"
      },
      "source": [
        "# test our character vectorizer\n",
        "random_train_chars = random.choice(train_chars)\n",
        "print(f\"Charified Text:\\n {random_train_chars}\")\n",
        "print(f\"\\nLength of random_train_chars: {len(random_train_chars.split())}\")\n",
        "vectorized_chars = char_vectorizer([random_train_chars])\n",
        "print(f\"\\nVectorized Chars:\\n {vectorized_chars}\")\n",
        "print(f\"\\nLength of Vectorized chars: {len(vectorized_chars[0])}\")"
      ],
      "execution_count": null,
      "outputs": [
        {
          "output_type": "stream",
          "name": "stdout",
          "text": [
            "Charified Text:\n",
            " i n   t h e   t r a i n i n g   p h a s e   ,   @   y e a r   @   m e d i c a l   s t u d e n t s   w e r e   r a n d o m l y   a s s i g n e d   t o   o n e   o f   t h r e e   g r o u p s   .\n",
            "\n",
            "Length of random_train_chars: 79\n",
            "\n",
            "Vectorized Chars:\n",
            " [[ 4  6  3 13  2  3  8  5  4  6  4  6 18 14 13  5  9  2 19  2  5  8 15  2\n",
            "  10  4 11  5 12  9  3 16 10  2  6  3  9 20  2  8  2  8  5  6 10  7 15 12\n",
            "  19  5  9  9  4 18  6  2 10  3  7  7  6  2  7 17  3 13  8  2  2 18  8  7\n",
            "  16 14  9  0  0  0  0  0  0  0  0  0  0  0  0  0  0  0  0  0  0  0  0  0\n",
            "   0  0  0  0  0  0  0  0  0  0  0  0  0  0  0  0  0  0  0  0  0  0  0  0\n",
            "   0  0  0  0  0  0  0  0  0  0  0  0  0  0  0  0  0  0  0  0  0  0  0  0\n",
            "   0  0  0  0  0  0  0  0  0  0  0  0  0  0  0  0  0  0  0  0  0  0  0  0\n",
            "   0  0  0  0  0  0  0  0  0  0  0  0  0  0  0  0  0  0  0  0  0  0  0  0\n",
            "   0  0  0  0  0  0  0  0  0  0  0  0  0  0  0  0  0  0  0  0  0  0  0  0\n",
            "   0  0  0  0  0  0  0  0  0  0  0  0  0  0  0  0  0  0  0  0  0  0  0  0\n",
            "   0  0  0  0  0  0  0  0  0  0  0  0  0  0  0  0  0  0  0  0  0  0  0  0\n",
            "   0  0  0  0  0  0  0  0  0  0  0  0  0  0  0  0  0  0  0  0  0  0  0  0\n",
            "   0  0]]\n",
            "\n",
            "Length of Vectorized chars: 290\n"
          ]
        }
      ]
    },
    {
      "cell_type": "markdown",
      "metadata": {
        "id": "8ewsqBxhR1Jl"
      },
      "source": [
        "### Creating a character-level embedding layer"
      ]
    },
    {
      "cell_type": "code",
      "metadata": {
        "id": "WAPpgq_6ZllT"
      },
      "source": [
        "# create char embedding layer\n",
        "char_embed = layers.Embedding(input_dim=len(char_vocab), #number of different characters\n",
        "                              output_dim=25, # this is the size of the char embedding\n",
        "                              mask_zero=True,\n",
        "                              name=\"char_embed\")"
      ],
      "execution_count": null,
      "outputs": []
    },
    {
      "cell_type": "code",
      "metadata": {
        "colab": {
          "base_uri": "https://localhost:8080/"
        },
        "id": "ttifUYhhblo2",
        "outputId": "568d7f44-98e9-4cf0-a7c5-cd43bccde5bc"
      },
      "source": [
        "# test out character embedding layer\n",
        "print(f\"Charified Text:\\n {random_train_chars}\\n\")\n",
        "char_embed_example = char_embed(char_vectorizer([random_train_chars]))\n",
        "print(f\"Embedded Chars (after vecotrization and embedding):\\n {char_embed_example}\\n\")\n",
        "print(f\"Character Embedding Shape: {char_embed_example.shape}\")"
      ],
      "execution_count": null,
      "outputs": [
        {
          "output_type": "stream",
          "name": "stdout",
          "text": [
            "Charified Text:\n",
            " i n   t h e   t r a i n i n g   p h a s e   ,   @   y e a r   @   m e d i c a l   s t u d e n t s   w e r e   r a n d o m l y   a s s i g n e d   t o   o n e   o f   t h r e e   g r o u p s   .\n",
            "\n",
            "Embedded Chars (after vecotrization and embedding):\n",
            " [[[ 0.04783675  0.01494641 -0.0082175  ... -0.03830449  0.04580606\n",
            "   -0.04681152]\n",
            "  [ 0.01668388  0.0434533  -0.03747022 ...  0.02407166 -0.01785904\n",
            "    0.00433203]\n",
            "  [ 0.02681005 -0.01628908  0.03902569 ...  0.02274389  0.02357117\n",
            "    0.03930594]\n",
            "  ...\n",
            "  [ 0.0022173  -0.04370207 -0.01468781 ...  0.03968522 -0.01182834\n",
            "    0.04304247]\n",
            "  [ 0.0022173  -0.04370207 -0.01468781 ...  0.03968522 -0.01182834\n",
            "    0.04304247]\n",
            "  [ 0.0022173  -0.04370207 -0.01468781 ...  0.03968522 -0.01182834\n",
            "    0.04304247]]]\n",
            "\n",
            "Character Embedding Shape: (1, 290, 25)\n"
          ]
        }
      ]
    },
    {
      "cell_type": "markdown",
      "metadata": {
        "id": "82naaf_YcYZr"
      },
      "source": [
        "### Building a Conv1D Model using character-level embedding"
      ]
    },
    {
      "cell_type": "code",
      "metadata": {
        "id": "5cRiJNIOcs66"
      },
      "source": [
        "# make conv1D on chars only\n",
        "inputs = layers.Input(shape=(1,), dtype=\"string\")\n",
        "char_vectors = char_vectorizer(inputs)\n",
        "char_embeddings = char_embed(char_vectors)\n",
        "x = layers.Conv1D(64, kernel_size=5, padding='same', activation=\"relu\")(char_embeddings)\n",
        "x = layers.GlobalMaxPool1D()(x)\n",
        "outputs = layers.Dense(num_classes, activation=\"softmax\")(x)\n",
        "model3 = tf.keras.Model(inputs, outputs, name=\"model3_conv1d_char_embeddings\")\n",
        "\n",
        "# compile the model\n",
        "model3.compile(loss=\"categorical_crossentropy\",\n",
        "               optimizer=tf.keras.optimizers.Adam(),\n",
        "               metrics=['accuracy'])"
      ],
      "execution_count": null,
      "outputs": []
    },
    {
      "cell_type": "code",
      "metadata": {
        "colab": {
          "base_uri": "https://localhost:8080/"
        },
        "id": "nyJjptHhdnn8",
        "outputId": "b542fdf5-83c4-42fd-aa06-6a8a02fe16d0"
      },
      "source": [
        "model3.summary()"
      ],
      "execution_count": null,
      "outputs": [
        {
          "output_type": "stream",
          "name": "stdout",
          "text": [
            "Model: \"model3_conv1d_char_embeddings\"\n",
            "_________________________________________________________________\n",
            "Layer (type)                 Output Shape              Param #   \n",
            "=================================================================\n",
            "input_3 (InputLayer)         [(None, 1)]               0         \n",
            "_________________________________________________________________\n",
            "char_vectorizer (TextVectori (None, 290)               0         \n",
            "_________________________________________________________________\n",
            "char_embed (Embedding)       (None, 290, 25)           700       \n",
            "_________________________________________________________________\n",
            "conv1d_1 (Conv1D)            (None, 290, 64)           8064      \n",
            "_________________________________________________________________\n",
            "global_max_pooling1d (Global (None, 64)                0         \n",
            "_________________________________________________________________\n",
            "dense_3 (Dense)              (None, 5)                 325       \n",
            "=================================================================\n",
            "Total params: 9,089\n",
            "Trainable params: 9,089\n",
            "Non-trainable params: 0\n",
            "_________________________________________________________________\n"
          ]
        }
      ]
    },
    {
      "cell_type": "code",
      "metadata": {
        "colab": {
          "base_uri": "https://localhost:8080/"
        },
        "id": "-kBY5oB2dvSK",
        "outputId": "a8e93c06-afee-4ced-ab2e-230ac583b015"
      },
      "source": [
        "# create char-level datasets\n",
        "train_char_dataset = tf.data.Dataset.from_tensor_slices((train_chars, train_labels_one_hot)).batch(32).prefetch(tf.data.AUTOTUNE)\n",
        "val_char_dataset = tf.data.Dataset.from_tensor_slices((val_chars, val_labels_one_hot)).batch(32).prefetch(tf.data.AUTOTUNE)\n",
        "test_char_dataset = tf.data.Dataset.from_tensor_slices((test_chars, test_labels_one_hot)).batch(32).prefetch(tf.data.AUTOTUNE)\n",
        "\n",
        "train_char_dataset"
      ],
      "execution_count": null,
      "outputs": [
        {
          "output_type": "execute_result",
          "data": {
            "text/plain": [
              "<PrefetchDataset shapes: ((None,), (None, 5)), types: (tf.string, tf.float64)>"
            ]
          },
          "metadata": {},
          "execution_count": 77
        }
      ]
    },
    {
      "cell_type": "code",
      "metadata": {
        "colab": {
          "base_uri": "https://localhost:8080/"
        },
        "id": "KHkMI-IdegG4",
        "outputId": "93e01b25-521b-4f15-c7b5-83d7b0365565"
      },
      "source": [
        "# fit the model on chars only\n",
        "history_model3 = model3.fit(train_char_dataset,\n",
        "                            steps_per_epoch=int(0.1*len(train_char_dataset)),\n",
        "                            epochs=3,\n",
        "                            validation_data=val_char_dataset,\n",
        "                            validation_steps=int(0.1*len(val_char_dataset)))"
      ],
      "execution_count": null,
      "outputs": [
        {
          "output_type": "stream",
          "name": "stdout",
          "text": [
            "Epoch 1/3\n",
            "562/562 [==============================] - 6s 10ms/step - loss: 1.2448 - accuracy: 0.4915 - val_loss: 1.0343 - val_accuracy: 0.5868\n",
            "Epoch 2/3\n",
            "562/562 [==============================] - 5s 9ms/step - loss: 1.0095 - accuracy: 0.5953 - val_loss: 0.9486 - val_accuracy: 0.6160\n",
            "Epoch 3/3\n",
            "562/562 [==============================] - 5s 10ms/step - loss: 0.9371 - accuracy: 0.6296 - val_loss: 0.8768 - val_accuracy: 0.6619\n"
          ]
        }
      ]
    },
    {
      "cell_type": "code",
      "metadata": {
        "colab": {
          "base_uri": "https://localhost:8080/"
        },
        "id": "rxSU8MKYe9Xn",
        "outputId": "1ac9cf15-3c52-46b3-8fa2-29dd9c83f9fb"
      },
      "source": [
        "# make predictions with character model only\n",
        "model3_pred_probs = model3.predict(val_char_dataset)\n",
        "model3_pred_probs"
      ],
      "execution_count": null,
      "outputs": [
        {
          "output_type": "execute_result",
          "data": {
            "text/plain": [
              "array([[0.12798825, 0.253446  , 0.12483862, 0.45706952, 0.03665758],\n",
              "       [0.11381304, 0.68296397, 0.01613239, 0.14081112, 0.04627948],\n",
              "       [0.18724062, 0.33247   , 0.25808573, 0.17678714, 0.04541651],\n",
              "       ...,\n",
              "       [0.03006332, 0.05997347, 0.15250379, 0.08315415, 0.6743053 ],\n",
              "       [0.01637156, 0.11015029, 0.31407732, 0.02374801, 0.5356528 ],\n",
              "       [0.26332346, 0.52242833, 0.13738978, 0.0639688 , 0.01288966]],\n",
              "      dtype=float32)"
            ]
          },
          "metadata": {},
          "execution_count": 79
        }
      ]
    },
    {
      "cell_type": "code",
      "metadata": {
        "colab": {
          "base_uri": "https://localhost:8080/"
        },
        "id": "IU1qCfk0fZmp",
        "outputId": "f34e5f0b-8611-4b01-a777-2ee80a5d5624"
      },
      "source": [
        "# convert the prediction probabilities to class labels\n",
        "model3_preds = tf.argmax(model3_pred_probs, axis=1)\n",
        "model3_preds"
      ],
      "execution_count": null,
      "outputs": [
        {
          "output_type": "execute_result",
          "data": {
            "text/plain": [
              "<tf.Tensor: shape=(30212,), dtype=int64, numpy=array([3, 1, 1, ..., 4, 4, 1])>"
            ]
          },
          "metadata": {},
          "execution_count": 80
        }
      ]
    },
    {
      "cell_type": "code",
      "metadata": {
        "colab": {
          "base_uri": "https://localhost:8080/"
        },
        "id": "sWLYTl51flaK",
        "outputId": "5bd3c570-4f19-4b64-c3d3-701549006bca"
      },
      "source": [
        "# calculate results for conv1d model chars only\n",
        "model3_results = calculate_results(y_true=val_labels_encoded,\n",
        "                                   y_pred=model3_preds)\n",
        "model3_results"
      ],
      "execution_count": null,
      "outputs": [
        {
          "output_type": "execute_result",
          "data": {
            "text/plain": [
              "{'accuracy': 65.09003045147624,\n",
              " 'f1': 0.63947838191105,\n",
              " 'precision': 0.6413472964460005,\n",
              " 'recall': 0.6509003045147623}"
            ]
          },
          "metadata": {},
          "execution_count": 81
        }
      ]
    },
    {
      "cell_type": "markdown",
      "metadata": {
        "id": "vKUj9wPSfztq"
      },
      "source": [
        "# Models using hybrid embeddings"
      ]
    },
    {
      "cell_type": "markdown",
      "metadata": {
        "id": "KlUj8mmEhPrt"
      },
      "source": [
        "## Model 4: Combining pretrained token embeddings + character embeddings\n",
        "\n",
        "1. Create a token level embedding (similar to `model1`)\n",
        "2. Create a character level embedding (similar to `model2` with a slight modification)\n",
        "3. Combine 1 and 2 with a concatenate (`layers.Concatenate`)\n",
        "4. Build a series of outputs layers on top of 3.\n",
        "5. Construct a model which takes token and character-level sequences as input and produces sequence label probabilities as output"
      ]
    },
    {
      "cell_type": "code",
      "metadata": {
        "id": "aNWx_t58iwGL"
      },
      "source": [
        "# 1. Setup the token inputs/model\n",
        "token_inputs = layers.Input(shape=[], dtype='string', name=\"token_input\")\n",
        "token_embeddings = tf_hub_embedding_layer(token_inputs)\n",
        "token_output = layers.Dense(128, activation='relu')(token_embeddings)\n",
        "token_model = tf.keras.Model(token_inputs, token_output)\n",
        "\n",
        "# 2. Create a character model\n",
        "char_inputs = layers.Input(shape=(1,), dtype='string', name='char_input')\n",
        "char_vectors = char_vectorizer(char_inputs)\n",
        "char_embeddings = char_embed(char_vectors)\n",
        "char_bi_lstm = layers.Bidirectional(layers.LSTM(25))(char_embeddings)\n",
        "char_model = tf.keras.Model(char_inputs, char_bi_lstm)\n",
        "\n",
        "# 3. Concatenate token and char inputs (create hybrid embedding)\n",
        "token_char_concat = layers.Concatenate(name='token_char_hybrid')([token_model.output,\n",
        "                                                                  char_model.output])\n",
        "\n",
        "# 4. Create output layers - adding in Dropout\n",
        "combined_dropout = layers.Dropout(0.5)(token_char_concat)\n",
        "combined_dense = layers.Dense(128, activation='relu')(combined_dropout)\n",
        "final_dropout = layers.Dropout(0.5)(combined_dense)\n",
        "layers.Dense(num_classes)\n",
        "output_layer = layers.Dense(num_classes, activation='softmax')(final_dropout)\n",
        "\n",
        "# 5. Construct model with char and token inputs\n",
        "model4 = tf.keras.Model(inputs=[token_model.input, char_model.input],\n",
        "                        outputs=output_layer,\n",
        "                        name='model4_token_and_char_embeddings')"
      ],
      "execution_count": null,
      "outputs": []
    },
    {
      "cell_type": "code",
      "metadata": {
        "colab": {
          "base_uri": "https://localhost:8080/"
        },
        "id": "MN9t8qwjl0j0",
        "outputId": "089e0568-9244-40fc-d2cd-7e98f61ab537"
      },
      "source": [
        "model4.summary()"
      ],
      "execution_count": null,
      "outputs": [
        {
          "output_type": "stream",
          "name": "stdout",
          "text": [
            "Model: \"model4_token_and_char_embeddings\"\n",
            "__________________________________________________________________________________________________\n",
            "Layer (type)                    Output Shape         Param #     Connected to                     \n",
            "==================================================================================================\n",
            "char_input (InputLayer)         [(None, 1)]          0                                            \n",
            "__________________________________________________________________________________________________\n",
            "token_input (InputLayer)        [(None,)]            0                                            \n",
            "__________________________________________________________________________________________________\n",
            "char_vectorizer (TextVectorizat (None, 290)          0           char_input[0][0]                 \n",
            "__________________________________________________________________________________________________\n",
            "universal_sentence_encoder (Ker (None, 512)          256797824   token_input[0][0]                \n",
            "__________________________________________________________________________________________________\n",
            "char_embed (Embedding)          (None, 290, 25)      700         char_vectorizer[1][0]            \n",
            "__________________________________________________________________________________________________\n",
            "dense_4 (Dense)                 (None, 128)          65664       universal_sentence_encoder[1][0] \n",
            "__________________________________________________________________________________________________\n",
            "bidirectional (Bidirectional)   (None, 50)           10200       char_embed[1][0]                 \n",
            "__________________________________________________________________________________________________\n",
            "token_char_hybrid (Concatenate) (None, 178)          0           dense_4[0][0]                    \n",
            "                                                                 bidirectional[0][0]              \n",
            "__________________________________________________________________________________________________\n",
            "dropout (Dropout)               (None, 178)          0           token_char_hybrid[0][0]          \n",
            "__________________________________________________________________________________________________\n",
            "dense_5 (Dense)                 (None, 128)          22912       dropout[0][0]                    \n",
            "__________________________________________________________________________________________________\n",
            "dropout_1 (Dropout)             (None, 128)          0           dense_5[0][0]                    \n",
            "__________________________________________________________________________________________________\n",
            "dense_7 (Dense)                 (None, 5)            645         dropout_1[0][0]                  \n",
            "==================================================================================================\n",
            "Total params: 256,897,945\n",
            "Trainable params: 100,121\n",
            "Non-trainable params: 256,797,824\n",
            "__________________________________________________________________________________________________\n"
          ]
        }
      ]
    },
    {
      "cell_type": "markdown",
      "metadata": {
        "id": "IHBIYQeDmQKM"
      },
      "source": [
        "### Visualizing different data"
      ]
    },
    {
      "cell_type": "code",
      "metadata": {
        "colab": {
          "base_uri": "https://localhost:8080/",
          "height": 691
        },
        "id": "2y9Whkj4mguI",
        "outputId": "aa213b1a-d2be-4bdf-c763-4d3a9e5e9723"
      },
      "source": [
        "# plot hybrid token and character model\n",
        "from keras.utils.vis_utils import plot_model\n",
        "plot_model(model4, show_shapes=True)"
      ],
      "execution_count": null,
      "outputs": [
        {
          "output_type": "execute_result",
          "data": {
            "image/png": "[encoded data removed]",
            "text/plain": [
              "<IPython.core.display.Image object>"
            ]
          },
          "metadata": {},
          "execution_count": 84
        }
      ]
    },
    {
      "cell_type": "code",
      "metadata": {
        "id": "0_C2FlmGBeVv"
      },
      "source": [
        "# compile token-char model\n",
        "model4.compile(loss=\"categorical_crossentropy\",\n",
        "               optimizer=tf.keras.optimizers.Adam(),\n",
        "               metrics=['accuracy'])"
      ],
      "execution_count": null,
      "outputs": []
    },
    {
      "cell_type": "markdown",
      "metadata": {
        "id": "x11lSY67C65p"
      },
      "source": [
        "### Crafting Multi-Input Fast Loading `tf.data` datasets for Model4"
      ]
    },
    {
      "cell_type": "code",
      "metadata": {
        "id": "0s6IHRIVDYqv"
      },
      "source": [
        "# combine chars and tokens into a dataset\n",
        "train_char_token_data = tf.data.Dataset.from_tensor_slices((train_sentences, train_chars)) # make data\n",
        "train_char_token_labels = tf.data.Dataset.from_tensor_slices(train_labels_one_hot) # make the labels\n",
        "train_char_token_dataset = tf.data.Dataset.zip((train_char_token_data, train_char_token_labels)) # combine data and labels\n",
        "\n",
        "# prefetch and batch train data\n",
        "train_char_token_dataset = train_char_token_dataset.batch(32).prefetch(tf.data.AUTOTUNE)"
      ],
      "execution_count": null,
      "outputs": []
    },
    {
      "cell_type": "code",
      "metadata": {
        "id": "Vgobd5CTEd7x"
      },
      "source": [
        "# combine chars and tokens into a dataset\n",
        "val_char_token_data = tf.data.Dataset.from_tensor_slices((val_sentences, val_chars)) # make data\n",
        "val_char_token_labels = tf.data.Dataset.from_tensor_slices(val_labels_one_hot) # make the labels\n",
        "val_char_token_dataset = tf.data.Dataset.zip((val_char_token_data, val_char_token_labels)) # combine data and labels\n",
        "\n",
        "# prefetch and batch train data\n",
        "val_char_token_dataset = val_char_token_dataset.batch(32).prefetch(tf.data.AUTOTUNE)"
      ],
      "execution_count": null,
      "outputs": []
    },
    {
      "cell_type": "code",
      "metadata": {
        "colab": {
          "base_uri": "https://localhost:8080/"
        },
        "id": "uGMLP89wE_uV",
        "outputId": "1c7c837d-93e4-4989-f9a9-917901812ced"
      },
      "source": [
        "# check our training char and token embedding dataset\n",
        "train_char_token_dataset, val_char_token_dataset"
      ],
      "execution_count": null,
      "outputs": [
        {
          "output_type": "execute_result",
          "data": {
            "text/plain": [
              "(<PrefetchDataset shapes: (((None,), (None,)), (None, 5)), types: ((tf.string, tf.string), tf.float64)>,\n",
              " <PrefetchDataset shapes: (((None,), (None,)), (None, 5)), types: ((tf.string, tf.string), tf.float64)>)"
            ]
          },
          "metadata": {},
          "execution_count": 88
        }
      ]
    },
    {
      "cell_type": "code",
      "metadata": {
        "colab": {
          "base_uri": "https://localhost:8080/"
        },
        "id": "xFAEfJpAFLQ1",
        "outputId": "a22d13bf-e086-4291-ae3d-fb0704fe6606"
      },
      "source": [
        "# fitting our first multi input model\n",
        "history_model4 = model4.fit(train_char_token_dataset,\n",
        "                            epochs=3,\n",
        "                            steps_per_epoch=int(0.1*len(train_char_token_dataset)),\n",
        "                            validation_data=val_char_token_dataset,\n",
        "                            validation_steps=int(0.1 * len(val_char_token_dataset)))"
      ],
      "execution_count": null,
      "outputs": [
        {
          "output_type": "stream",
          "name": "stdout",
          "text": [
            "Epoch 1/3\n",
            "562/562 [==============================] - 83s 130ms/step - loss: 0.9845 - accuracy: 0.6118 - val_loss: 0.7830 - val_accuracy: 0.7068\n",
            "Epoch 2/3\n",
            "562/562 [==============================] - 70s 125ms/step - loss: 0.8015 - accuracy: 0.6912 - val_loss: 0.7147 - val_accuracy: 0.7311\n",
            "Epoch 3/3\n",
            "562/562 [==============================] - 67s 120ms/step - loss: 0.7777 - accuracy: 0.7066 - val_loss: 0.6909 - val_accuracy: 0.7354\n"
          ]
        }
      ]
    },
    {
      "cell_type": "code",
      "metadata": {
        "colab": {
          "base_uri": "https://localhost:8080/"
        },
        "id": "0juMhqudF2wP",
        "outputId": "e0e836ac-4193-4390-d961-33ec57f78725"
      },
      "source": [
        "# evaluate on the whole validation dataset\n",
        "model4.evaluate(val_char_token_dataset)"
      ],
      "execution_count": null,
      "outputs": [
        {
          "output_type": "stream",
          "name": "stdout",
          "text": [
            "945/945 [==============================] - 49s 51ms/step - loss: 0.6988 - accuracy: 0.7348\n"
          ]
        },
        {
          "output_type": "execute_result",
          "data": {
            "text/plain": [
              "[0.698760449886322, 0.734840452671051]"
            ]
          },
          "metadata": {},
          "execution_count": 90
        }
      ]
    },
    {
      "cell_type": "code",
      "metadata": {
        "colab": {
          "base_uri": "https://localhost:8080/"
        },
        "id": "2tnZZDQrG9cX",
        "outputId": "50399cfd-8056-4c84-ac5e-d6c79e97fc06"
      },
      "source": [
        "# make predictions using the token character model hybrid\n",
        "model4_pred_probs = model4.predict(val_char_token_dataset)\n",
        "model4_pred_probs[:10]"
      ],
      "execution_count": null,
      "outputs": [
        {
          "output_type": "execute_result",
          "data": {
            "text/plain": [
              "array([[3.86752278e-01, 4.06780303e-01, 6.44722627e-03, 1.92766726e-01,\n",
              "        7.25340238e-03],\n",
              "       [3.39053452e-01, 4.76434499e-01, 3.60309635e-03, 1.78187042e-01,\n",
              "        2.72197812e-03],\n",
              "       [3.10664207e-01, 1.93959743e-01, 4.26452234e-02, 4.21024740e-01,\n",
              "        3.17060538e-02],\n",
              "       [1.67245846e-02, 2.16738135e-02, 8.49864423e-01, 8.89678672e-03,\n",
              "        1.02840386e-01],\n",
              "       [3.68041284e-02, 1.43066674e-01, 4.97470021e-01, 1.89796481e-02,\n",
              "        3.03679466e-01],\n",
              "       [8.70304939e-04, 2.06321152e-03, 6.78749919e-01, 3.17283964e-04,\n",
              "        3.17999244e-01],\n",
              "       [2.15198076e-03, 8.75213277e-03, 4.87963051e-01, 6.47736655e-04,\n",
              "        5.00485122e-01],\n",
              "       [3.90938716e-03, 2.26520784e-02, 4.56997454e-01, 9.35619639e-04,\n",
              "        5.15505433e-01],\n",
              "       [6.35565899e-04, 1.37877725e-02, 3.85375507e-02, 2.64895527e-04,\n",
              "        9.46774244e-01],\n",
              "       [2.18423292e-01, 5.54020762e-01, 3.82013246e-02, 1.02221325e-01,\n",
              "        8.71333033e-02]], dtype=float32)"
            ]
          },
          "metadata": {},
          "execution_count": 91
        }
      ]
    },
    {
      "cell_type": "code",
      "metadata": {
        "colab": {
          "base_uri": "https://localhost:8080/"
        },
        "id": "joGxjPPyHMxu",
        "outputId": "c4b7c817-4f20-4ba7-dffc-805f943e6f6d"
      },
      "source": [
        "# format pred probs into pred labels\n",
        "model4_preds = tf.argmax(model4_pred_probs, axis=1)\n",
        "model4_preds"
      ],
      "execution_count": null,
      "outputs": [
        {
          "output_type": "execute_result",
          "data": {
            "text/plain": [
              "<tf.Tensor: shape=(30212,), dtype=int64, numpy=array([1, 1, 3, ..., 4, 4, 2])>"
            ]
          },
          "metadata": {},
          "execution_count": 92
        }
      ]
    },
    {
      "cell_type": "code",
      "metadata": {
        "colab": {
          "base_uri": "https://localhost:8080/"
        },
        "id": "KkSoEBX77muG",
        "outputId": "6b26b455-92a4-431a-cc31-e67ab14e163f"
      },
      "source": [
        "model4_results = calculate_results(y_true=val_labels_encoded,\n",
        "                                   y_pred=model4_preds)\n",
        "model4_results"
      ],
      "execution_count": null,
      "outputs": [
        {
          "output_type": "execute_result",
          "data": {
            "text/plain": [
              "{'accuracy': 73.48404607440752,\n",
              " 'f1': 0.732423692125259,\n",
              " 'precision': 0.7353180988493806,\n",
              " 'recall': 0.7348404607440752}"
            ]
          },
          "metadata": {},
          "execution_count": 93
        }
      ]
    },
    {
      "cell_type": "markdown",
      "metadata": {
        "id": "-HobVKz-Htna"
      },
      "source": [
        "## Model 5: Adding Positional Embeddings via Feature Engineering"
      ]
    },
    {
      "cell_type": "code",
      "metadata": {
        "colab": {
          "base_uri": "https://localhost:8080/",
          "height": 206
        },
        "id": "5DqE_kZbIf8Y",
        "outputId": "e35651e8-5305-48c2-ae5b-f012cd692ccd"
      },
      "source": [
        "train_df.head()"
      ],
      "execution_count": null,
      "outputs": [
        {
          "output_type": "execute_result",
          "data": {
            "text/html": [
              "<div>\n",
              "<style scoped>\n",
              "    .dataframe tbody tr th:only-of-type {\n",
              "        vertical-align: middle;\n",
              "    }\n",
              "\n",
              "    .dataframe tbody tr th {\n",
              "        vertical-align: top;\n",
              "    }\n",
              "\n",
              "    .dataframe thead th {\n",
              "        text-align: right;\n",
              "    }\n",
              "</style>\n",
              "<table border=\"1\" class=\"dataframe\">\n",
              "  <thead>\n",
              "    <tr style=\"text-align: right;\">\n",
              "      <th></th>\n",
              "      <th>target</th>\n",
              "      <th>text</th>\n",
              "      <th>line_number</th>\n",
              "      <th>total_lines</th>\n",
              "    </tr>\n",
              "  </thead>\n",
              "  <tbody>\n",
              "    <tr>\n",
              "      <th>0</th>\n",
              "      <td>OBJECTIVE</td>\n",
              "      <td>to investigate the efficacy of @ weeks of dail...</td>\n",
              "      <td>0</td>\n",
              "      <td>11</td>\n",
              "    </tr>\n",
              "    <tr>\n",
              "      <th>1</th>\n",
              "      <td>METHODS</td>\n",
              "      <td>a total of @ patients with primary knee oa wer...</td>\n",
              "      <td>1</td>\n",
              "      <td>11</td>\n",
              "    </tr>\n",
              "    <tr>\n",
              "      <th>2</th>\n",
              "      <td>METHODS</td>\n",
              "      <td>outcome measures included pain reduction and i...</td>\n",
              "      <td>2</td>\n",
              "      <td>11</td>\n",
              "    </tr>\n",
              "    <tr>\n",
              "      <th>3</th>\n",
              "      <td>METHODS</td>\n",
              "      <td>pain was assessed using the visual analog pain...</td>\n",
              "      <td>3</td>\n",
              "      <td>11</td>\n",
              "    </tr>\n",
              "    <tr>\n",
              "      <th>4</th>\n",
              "      <td>METHODS</td>\n",
              "      <td>secondary outcome measures included the wester...</td>\n",
              "      <td>4</td>\n",
              "      <td>11</td>\n",
              "    </tr>\n",
              "  </tbody>\n",
              "</table>\n",
              "</div>"
            ],
            "text/plain": [
              "      target  ... total_lines\n",
              "0  OBJECTIVE  ...          11\n",
              "1    METHODS  ...          11\n",
              "2    METHODS  ...          11\n",
              "3    METHODS  ...          11\n",
              "4    METHODS  ...          11\n",
              "\n",
              "[5 rows x 4 columns]"
            ]
          },
          "metadata": {},
          "execution_count": 94
        }
      ]
    },
    {
      "cell_type": "markdown",
      "metadata": {
        "id": "HrKl723AJW_u"
      },
      "source": [
        "### Creating positional embeddings"
      ]
    },
    {
      "cell_type": "code",
      "metadata": {
        "colab": {
          "base_uri": "https://localhost:8080/"
        },
        "id": "ob2u8IJ9JwZy",
        "outputId": "24733f2c-7db3-4823-b0cf-f6eb6962eb8c"
      },
      "source": [
        "# how many different line numbers are there\n",
        "train_df['line_number'].value_counts()"
      ],
      "execution_count": null,
      "outputs": [
        {
          "output_type": "execute_result",
          "data": {
            "text/plain": [
              "0     15000\n",
              "1     15000\n",
              "2     15000\n",
              "3     15000\n",
              "4     14992\n",
              "5     14949\n",
              "6     14758\n",
              "7     14279\n",
              "8     13346\n",
              "9     11981\n",
              "10    10041\n",
              "11     7892\n",
              "12     5853\n",
              "13     4152\n",
              "14     2835\n",
              "15     1861\n",
              "16     1188\n",
              "17      751\n",
              "18      462\n",
              "19      286\n",
              "20      162\n",
              "21      101\n",
              "22       66\n",
              "23       33\n",
              "24       22\n",
              "25       14\n",
              "26        7\n",
              "27        4\n",
              "28        3\n",
              "29        1\n",
              "30        1\n",
              "Name: line_number, dtype: int64"
            ]
          },
          "metadata": {},
          "execution_count": 95
        }
      ]
    },
    {
      "cell_type": "code",
      "metadata": {
        "colab": {
          "base_uri": "https://localhost:8080/",
          "height": 284
        },
        "id": "MACzj8-sKstb",
        "outputId": "b5fc8e24-7120-43f1-da0a-c3eb80c4161d"
      },
      "source": [
        "# check the distribution of 'line_number' column\n",
        "train_df.line_number.plot.hist()"
      ],
      "execution_count": null,
      "outputs": [
        {
          "output_type": "execute_result",
          "data": {
            "text/plain": [
              "<matplotlib.axes._subplots.AxesSubplot at 0x7fafe299fdd0>"
            ]
          },
          "metadata": {},
          "execution_count": 96
        },
        {
          "output_type": "display_data",
          "data": {
            "image/png": "[encoded data removed]",
            "text/plain": [
              "<Figure size 432x288 with 1 Axes>"
            ]
          },
          "metadata": {
            "needs_background": "light"
          }
        }
      ]
    },
    {
      "cell_type": "code",
      "metadata": {
        "colab": {
          "base_uri": "https://localhost:8080/"
        },
        "id": "3Ce5Ila3LDoU",
        "outputId": "24dc0e0f-2509-4232-ac9a-68adc457bfa2"
      },
      "source": [
        "# use tensorflow to create one-hot-encoded tensors of our line number column\n",
        "train_line_numbers_one_hot = tf.one_hot(train_df['line_number'].to_numpy(), depth=15)\n",
        "val_line_numbers_one_hot = tf.one_hot(val_df['line_number'].to_numpy(), depth=15)\n",
        "test_line_numbers_one_hot = tf.one_hot(test_df['line_number'].to_numpy(), depth=15)\n",
        "train_line_numbers_one_hot[:10], train_line_numbers_one_hot.shape"
      ],
      "execution_count": null,
      "outputs": [
        {
          "output_type": "execute_result",
          "data": {
            "text/plain": [
              "(<tf.Tensor: shape=(10, 15), dtype=float32, numpy=\n",
              " array([[1., 0., 0., 0., 0., 0., 0., 0., 0., 0., 0., 0., 0., 0., 0.],\n",
              "        [0., 1., 0., 0., 0., 0., 0., 0., 0., 0., 0., 0., 0., 0., 0.],\n",
              "        [0., 0., 1., 0., 0., 0., 0., 0., 0., 0., 0., 0., 0., 0., 0.],\n",
              "        [0., 0., 0., 1., 0., 0., 0., 0., 0., 0., 0., 0., 0., 0., 0.],\n",
              "        [0., 0., 0., 0., 1., 0., 0., 0., 0., 0., 0., 0., 0., 0., 0.],\n",
              "        [0., 0., 0., 0., 0., 1., 0., 0., 0., 0., 0., 0., 0., 0., 0.],\n",
              "        [0., 0., 0., 0., 0., 0., 1., 0., 0., 0., 0., 0., 0., 0., 0.],\n",
              "        [0., 0., 0., 0., 0., 0., 0., 1., 0., 0., 0., 0., 0., 0., 0.],\n",
              "        [0., 0., 0., 0., 0., 0., 0., 0., 1., 0., 0., 0., 0., 0., 0.],\n",
              "        [0., 0., 0., 0., 0., 0., 0., 0., 0., 1., 0., 0., 0., 0., 0.]],\n",
              "       dtype=float32)>, TensorShape([180040, 15]))"
            ]
          },
          "metadata": {},
          "execution_count": 127
        }
      ]
    },
    {
      "cell_type": "markdown",
      "metadata": {
        "id": "_bXCIqmhLtHY"
      },
      "source": [
        "### Encoding the total lines feature"
      ]
    },
    {
      "cell_type": "code",
      "metadata": {
        "colab": {
          "base_uri": "https://localhost:8080/"
        },
        "id": "58XtD7UrMOmx",
        "outputId": "28bf0209-195e-4230-cd31-22f9b2986524"
      },
      "source": [
        "train_df['total_lines'].value_counts()"
      ],
      "execution_count": null,
      "outputs": [
        {
          "output_type": "execute_result",
          "data": {
            "text/plain": [
              "11    24468\n",
              "10    23639\n",
              "12    22113\n",
              "9     19400\n",
              "13    18438\n",
              "14    14610\n",
              "8     12285\n",
              "15    10768\n",
              "7      7464\n",
              "16     7429\n",
              "17     5202\n",
              "6      3353\n",
              "18     3344\n",
              "19     2480\n",
              "20     1281\n",
              "5      1146\n",
              "21      770\n",
              "22      759\n",
              "23      264\n",
              "4       215\n",
              "24      200\n",
              "25      182\n",
              "26       81\n",
              "28       58\n",
              "3        32\n",
              "30       31\n",
              "27       28\n",
              "Name: total_lines, dtype: int64"
            ]
          },
          "metadata": {},
          "execution_count": 98
        }
      ]
    },
    {
      "cell_type": "code",
      "metadata": {
        "colab": {
          "base_uri": "https://localhost:8080/",
          "height": 285
        },
        "id": "fzwKeUXvMlee",
        "outputId": "10068692-6b9c-4929-85b9-c7de356560fc"
      },
      "source": [
        "# check the distribution of total lines\n",
        "train_df.total_lines.plot.hist()"
      ],
      "execution_count": null,
      "outputs": [
        {
          "output_type": "execute_result",
          "data": {
            "text/plain": [
              "<matplotlib.axes._subplots.AxesSubplot at 0x7faf52dd2c10>"
            ]
          },
          "metadata": {},
          "execution_count": 99
        },
        {
          "output_type": "display_data",
          "data": {
            "image/png": "[encoded data removed]",
            "text/plain": [
              "<Figure size 432x288 with 1 Axes>"
            ]
          },
          "metadata": {
            "needs_background": "light"
          }
        }
      ]
    },
    {
      "cell_type": "code",
      "metadata": {
        "colab": {
          "base_uri": "https://localhost:8080/"
        },
        "id": "Bx7p5sAPMswD",
        "outputId": "1cb981aa-fa0f-481e-b8ab-c66ac73c5a4f"
      },
      "source": [
        "# check the coverage of a 'total_lines' value of 20\n",
        "np.percentile(train_df['total_lines'], 98)"
      ],
      "execution_count": null,
      "outputs": [
        {
          "output_type": "execute_result",
          "data": {
            "text/plain": [
              "20.0"
            ]
          },
          "metadata": {},
          "execution_count": 100
        }
      ]
    },
    {
      "cell_type": "code",
      "metadata": {
        "colab": {
          "base_uri": "https://localhost:8080/"
        },
        "id": "-2owrPoqM_XS",
        "outputId": "7520bffb-5976-4fcc-b2ca-1092023af50a"
      },
      "source": [
        "# use tensorflow to create one_hot_encoded tensors of our 'total_lines' feature\n",
        "train_total_lines_one_hot = tf.one_hot(train_df['total_lines'].to_numpy(), depth=20)\n",
        "val_total_lines_one_hot = tf.one_hot(val_df['total_lines'].to_numpy(), depth=20)\n",
        "test_total_lines_one_hot = tf.one_hot(test_df['total_lines'].to_numpy(), depth=20)\n",
        "train_total_lines_one_hot.shape, train_total_lines_one_hot[:10]"
      ],
      "execution_count": null,
      "outputs": [
        {
          "output_type": "execute_result",
          "data": {
            "text/plain": [
              "(TensorShape([180040, 20]), <tf.Tensor: shape=(10, 20), dtype=float32, numpy=\n",
              " array([[0., 0., 0., 0., 0., 0., 0., 0., 0., 0., 0., 1., 0., 0., 0., 0.,\n",
              "         0., 0., 0., 0.],\n",
              "        [0., 0., 0., 0., 0., 0., 0., 0., 0., 0., 0., 1., 0., 0., 0., 0.,\n",
              "         0., 0., 0., 0.],\n",
              "        [0., 0., 0., 0., 0., 0., 0., 0., 0., 0., 0., 1., 0., 0., 0., 0.,\n",
              "         0., 0., 0., 0.],\n",
              "        [0., 0., 0., 0., 0., 0., 0., 0., 0., 0., 0., 1., 0., 0., 0., 0.,\n",
              "         0., 0., 0., 0.],\n",
              "        [0., 0., 0., 0., 0., 0., 0., 0., 0., 0., 0., 1., 0., 0., 0., 0.,\n",
              "         0., 0., 0., 0.],\n",
              "        [0., 0., 0., 0., 0., 0., 0., 0., 0., 0., 0., 1., 0., 0., 0., 0.,\n",
              "         0., 0., 0., 0.],\n",
              "        [0., 0., 0., 0., 0., 0., 0., 0., 0., 0., 0., 1., 0., 0., 0., 0.,\n",
              "         0., 0., 0., 0.],\n",
              "        [0., 0., 0., 0., 0., 0., 0., 0., 0., 0., 0., 1., 0., 0., 0., 0.,\n",
              "         0., 0., 0., 0.],\n",
              "        [0., 0., 0., 0., 0., 0., 0., 0., 0., 0., 0., 1., 0., 0., 0., 0.,\n",
              "         0., 0., 0., 0.],\n",
              "        [0., 0., 0., 0., 0., 0., 0., 0., 0., 0., 0., 1., 0., 0., 0., 0.,\n",
              "         0., 0., 0., 0.]], dtype=float32)>)"
            ]
          },
          "metadata": {},
          "execution_count": 101
        }
      ]
    },
    {
      "cell_type": "markdown",
      "metadata": {
        "id": "Q6Y_CMTANm5R"
      },
      "source": [
        "### Building a Tribrid Embedding Model\n",
        "\n",
        "1. Create a token-level model\n",
        "2. Create a char-level model\n",
        "3. Create a model for the \"line_number\" model\n",
        "4. Create a model for the \"total_lines\" model\n",
        "5. Combine the outputs of 1 & 2 using `tf.keras.layers.Concatenate`\n",
        "6. Combine the outputs of 3, 4, 5 using `tf.keras.layers.Concatenate`\n",
        "7. Create an output layer to accept the tribrid embedding and output label probabilities\n",
        "8. Combine the inputs of 1, 2, 3, 4 and the outputs of 7 into a `tf.keras.Model`"
      ]
    },
    {
      "cell_type": "code",
      "metadata": {
        "colab": {
          "base_uri": "https://localhost:8080/"
        },
        "id": "tesIJKcG200O",
        "outputId": "048ce742-c11d-4114-80d5-7cf330092e27"
      },
      "source": [
        "train_line_numbers_one_hot[0].shape, train_line_numbers_one_hot[0].dtype"
      ],
      "execution_count": null,
      "outputs": [
        {
          "output_type": "execute_result",
          "data": {
            "text/plain": [
              "(TensorShape([15]), tf.float32)"
            ]
          },
          "metadata": {},
          "execution_count": 128
        }
      ]
    },
    {
      "cell_type": "code",
      "metadata": {
        "colab": {
          "base_uri": "https://localhost:8080/"
        },
        "id": "zgfKDUg_3BIt",
        "outputId": "c59f15da-ab00-4b78-cc4a-6f16e0e99e76"
      },
      "source": [
        "train_total_lines_one_hot[0].shape, train_total_lines_one_hot[0].dtype"
      ],
      "execution_count": null,
      "outputs": [
        {
          "output_type": "execute_result",
          "data": {
            "text/plain": [
              "(TensorShape([20]), tf.float32)"
            ]
          },
          "metadata": {},
          "execution_count": 129
        }
      ]
    },
    {
      "cell_type": "code",
      "metadata": {
        "id": "HSYg0_Dqzl1_"
      },
      "source": [
        "#1. Token inputs\n",
        "token_inputs = layers.Input(shape=[], dtype=\"string\", name=\"token_inputs\")\n",
        "token_embeddings = tf_hub_embedding_layer(token_inputs)\n",
        "token_outputs = layers.Dense(128, activation='relu')(token_embeddings)\n",
        "token_model = tf.keras.Model(inputs=token_inputs, outputs=token_outputs)\n",
        "\n",
        "#2. Char inputs\n",
        "char_inputs = layers.Input(shape=(1,), dtype='string', name='char_inputs')\n",
        "char_vectors = char_vectorizer(char_inputs)\n",
        "char_embeddings = char_embed(char_vectors)\n",
        "char_bi_lstm = layers.Bidirectional(layers.LSTM(24))(char_embeddings)\n",
        "char_model = tf.keras.Model(inputs=char_inputs,\n",
        "                            outputs=char_bi_lstm)\n",
        "\n",
        "#3. Line Numbers model\n",
        "line_num_inputs = layers.Input(shape=(15,), dtype=tf.float32, name='line_number_inputs')\n",
        "line_num_outputs = layers.Dense(32, activation='relu')(line_num_inputs)\n",
        "line_num_model = tf.keras.Model(inputs=line_num_inputs,\n",
        "                                outputs=line_num_outputs)\n",
        "\n",
        "#4. Total lines model\n",
        "tot_lines_inputs = layers.Input(shape=(20,), dtype=tf.float32, name='total_lines_inputs')\n",
        "tot_lines_outputs = layers.Dense(32, activation='relu')(tot_lines_inputs)\n",
        "tot_lines_model = tf.keras.Model(inputs=tot_lines_inputs,\n",
        "                                 outputs=tot_lines_outputs)\n",
        "\n",
        "#5. Combine the token and char embeddings into a hybrid embedding\n",
        "combined_embeddings = layers.Concatenate(name=\"char_token_hybrid_embedding\")([token_model.output,\n",
        "                                                                              char_model.output])\n",
        "z = layers.Dense(256, activation='relu')(combined_embeddings)\n",
        "z = layers.Dropout(0.5)(z)\n",
        "\n",
        "#6. Combine the positiional embeddings with the token and char embeddings\n",
        "tribrid_embeddings = layers.Concatenate(name=\"char_token_positional_embedding\")([line_num_model.output,\n",
        "                                                                                 tot_lines_model.output,\n",
        "                                                                                 z])\n",
        "\n",
        "#7. Create output layer\n",
        "output_layer = layers.Dense(num_classes, activation='softmax', name='output_layer')(tribrid_embeddings)\n",
        "\n",
        "#8. Put together model with all kinds of inputs\n",
        "model5 = tf.keras.Model(inputs=[line_num_model.input,\n",
        "                                tot_lines_model.input,\n",
        "                                token_model.input,\n",
        "                                char_model.input],\n",
        "                        outputs=output_layer,\n",
        "                        name='model5_tribrid_embedding_model')"
      ],
      "execution_count": null,
      "outputs": []
    },
    {
      "cell_type": "code",
      "metadata": {
        "colab": {
          "base_uri": "https://localhost:8080/"
        },
        "id": "Cbzo3kMC53b_",
        "outputId": "bc885646-8d7f-4bae-c9df-d27c9102272d"
      },
      "source": [
        "# get a summary of our tribrid embedding model\n",
        "model5.summary()"
      ],
      "execution_count": null,
      "outputs": [
        {
          "output_type": "stream",
          "name": "stdout",
          "text": [
            "Model: \"model5_tribrid_embedding_model\"\n",
            "__________________________________________________________________________________________________\n",
            "Layer (type)                    Output Shape         Param #     Connected to                     \n",
            "==================================================================================================\n",
            "char_inputs (InputLayer)        [(None, 1)]          0                                            \n",
            "__________________________________________________________________________________________________\n",
            "token_inputs (InputLayer)       [(None,)]            0                                            \n",
            "__________________________________________________________________________________________________\n",
            "char_vectorizer (TextVectorizat (None, 290)          0           char_inputs[0][0]                \n",
            "__________________________________________________________________________________________________\n",
            "universal_sentence_encoder (Ker (None, 512)          256797824   token_inputs[0][0]               \n",
            "__________________________________________________________________________________________________\n",
            "char_embed (Embedding)          (None, 290, 25)      700         char_vectorizer[4][0]            \n",
            "__________________________________________________________________________________________________\n",
            "dense_16 (Dense)                (None, 128)          65664       universal_sentence_encoder[4][0] \n",
            "__________________________________________________________________________________________________\n",
            "bidirectional_3 (Bidirectional) (None, 48)           9600        char_embed[4][0]                 \n",
            "__________________________________________________________________________________________________\n",
            "char_token_hybrid_embedding (Co (None, 176)          0           dense_16[0][0]                   \n",
            "                                                                 bidirectional_3[0][0]            \n",
            "__________________________________________________________________________________________________\n",
            "line_number_inputs (InputLayer) [(None, 15)]         0                                            \n",
            "__________________________________________________________________________________________________\n",
            "total_lines_inputs (InputLayer) [(None, 20)]         0                                            \n",
            "__________________________________________________________________________________________________\n",
            "dense_19 (Dense)                (None, 256)          45312       char_token_hybrid_embedding[0][0]\n",
            "__________________________________________________________________________________________________\n",
            "dense_17 (Dense)                (None, 32)           512         line_number_inputs[0][0]         \n",
            "__________________________________________________________________________________________________\n",
            "dense_18 (Dense)                (None, 32)           672         total_lines_inputs[0][0]         \n",
            "__________________________________________________________________________________________________\n",
            "dropout_4 (Dropout)             (None, 256)          0           dense_19[0][0]                   \n",
            "__________________________________________________________________________________________________\n",
            "char_token_positional_embedding (None, 320)          0           dense_17[0][0]                   \n",
            "                                                                 dense_18[0][0]                   \n",
            "                                                                 dropout_4[0][0]                  \n",
            "__________________________________________________________________________________________________\n",
            "output_layer (Dense)            (None, 5)            1605        char_token_positional_embedding[0\n",
            "==================================================================================================\n",
            "Total params: 256,921,889\n",
            "Trainable params: 124,065\n",
            "Non-trainable params: 256,797,824\n",
            "__________________________________________________________________________________________________\n"
          ]
        }
      ]
    },
    {
      "cell_type": "code",
      "metadata": {
        "colab": {
          "base_uri": "https://localhost:8080/",
          "height": 431
        },
        "id": "8L0YdZY16NtP",
        "outputId": "f0e28c02-42b9-4021-9a37-4ad235159acc"
      },
      "source": [
        "# plot model5 to explore it visually\n",
        "from keras.utils.vis_utils import plot_model\n",
        "plot_model(model5, show_shapes=True)"
      ],
      "execution_count": null,
      "outputs": [
        {
          "output_type": "execute_result",
          "data": {
            "image/png": "[encoded data removed]",
            "text/plain": [
              "<IPython.core.display.Image object>"
            ]
          },
          "metadata": {},
          "execution_count": 139
        }
      ]
    },
    {
      "cell_type": "markdown",
      "metadata": {
        "id": "-_UxUpDM8rI7"
      },
      "source": [
        "What is *label smoothing*?\n",
        "\n",
        "For example, if our model gets too confident on a single class (e.g. it;s prediction probability is really high), it may get stuck on that class and not consider other classes...\n",
        "\n",
        "Really confident: `[0.0, 0.0, 1.0, 0.0, 0.0]`\n",
        "\n",
        "What label smoothing does is it assigns some of the values from the highest pred prob to other classes, in turn, hopefully improving generalization: `[0.01, 0.01, 0.96, 0.01, 0.01]`\n"
      ]
    },
    {
      "cell_type": "code",
      "metadata": {
        "id": "KJNSVZ1E6lfL"
      },
      "source": [
        "# compiling token, char and positional embedding model\n",
        "model5.compile(loss=tf.keras.losses.CategoricalCrossentropy(label_smoothing=0.2), #helps to prevent overfitting\n",
        "               optimizer=tf.keras.optimizers.Adam(),\n",
        "               metrics=['accuracy'])"
      ],
      "execution_count": null,
      "outputs": []
    },
    {
      "cell_type": "markdown",
      "metadata": {
        "id": "5bTlE-h_99cN"
      },
      "source": [
        "### Create tribrid embedding datasets using tf.data"
      ]
    },
    {
      "cell_type": "code",
      "metadata": {
        "id": "TLDiduUm-M-x"
      },
      "source": [
        "# creating multi-input data pipelines (training and validation datasets)\n",
        "train_char_token_pos_data = tf.data.Dataset.from_tensor_slices((train_line_numbers_one_hot,\n",
        "                                                               train_total_lines_one_hot,\n",
        "                                                               train_sentences,\n",
        "                                                               train_chars))\n",
        "train_char_token_pos_labels = tf.data.Dataset.from_tensor_slices(train_labels_one_hot)\n",
        "train_char_token_pos_dataset = tf.data.Dataset.zip((train_char_token_pos_data, train_char_token_pos_labels))\n",
        "train_char_token_pos_dataset = train_char_token_pos_dataset.batch(32).prefetch(tf.data.AUTOTUNE)\n",
        "\n",
        "# do the same for validation dataset\n",
        "val_char_token_pos_data = tf.data.Dataset.from_tensor_slices((val_line_numbers_one_hot,\n",
        "                                                               val_total_lines_one_hot,\n",
        "                                                               val_sentences,\n",
        "                                                               val_chars))\n",
        "val_char_token_pos_labels = tf.data.Dataset.from_tensor_slices(val_labels_one_hot)\n",
        "val_char_token_pos_dataset = tf.data.Dataset.zip((val_char_token_pos_data, val_char_token_pos_labels))\n",
        "val_char_token_pos_dataset = val_char_token_pos_dataset.batch(32).prefetch(tf.data.AUTOTUNE)"
      ],
      "execution_count": null,
      "outputs": []
    },
    {
      "cell_type": "code",
      "metadata": {
        "colab": {
          "base_uri": "https://localhost:8080/"
        },
        "id": "ZfAMzZquAPTf",
        "outputId": "1e35107e-0ef1-436a-d0af-81dfe5cf0f3f"
      },
      "source": [
        "# check input shapes\n",
        "train_char_token_pos_dataset, val_char_token_pos_dataset"
      ],
      "execution_count": null,
      "outputs": [
        {
          "output_type": "execute_result",
          "data": {
            "text/plain": [
              "(<PrefetchDataset shapes: (((None, 15), (None, 20), (None,), (None,)), (None, 5)), types: ((tf.float32, tf.float32, tf.string, tf.string), tf.float64)>,\n",
              " <PrefetchDataset shapes: (((None, 15), (None, 20), (None,), (None,)), (None, 5)), types: ((tf.float32, tf.float32, tf.string, tf.string), tf.float64)>)"
            ]
          },
          "metadata": {},
          "execution_count": 142
        }
      ]
    },
    {
      "cell_type": "code",
      "metadata": {
        "colab": {
          "base_uri": "https://localhost:8080/"
        },
        "id": "8tDlZ3m0A8T2",
        "outputId": "f3dd1af8-bdb0-48a8-f604-31e579da1882"
      },
      "source": [
        "# fitting the model\n",
        "history_model5 = model5.fit(train_char_token_pos_dataset,\n",
        "                            epochs=3,\n",
        "                            steps_per_epoch=int(0.1 * len(train_char_token_pos_dataset)),\n",
        "                            validation_data=val_char_token_pos_dataset,\n",
        "                            validation_steps=int(0.1 * len(val_char_token_pos_dataset)))"
      ],
      "execution_count": null,
      "outputs": [
        {
          "output_type": "stream",
          "name": "stdout",
          "text": [
            "Epoch 1/3\n",
            "562/562 [==============================] - 82s 130ms/step - loss: 1.0992 - accuracy: 0.7207 - val_loss: 0.9783 - val_accuracy: 0.8095\n",
            "Epoch 2/3\n",
            "562/562 [==============================] - 70s 125ms/step - loss: 0.9659 - accuracy: 0.8163 - val_loss: 0.9478 - val_accuracy: 0.8301\n",
            "Epoch 3/3\n",
            "562/562 [==============================] - 67s 119ms/step - loss: 0.9500 - accuracy: 0.8235 - val_loss: 0.9402 - val_accuracy: 0.8308\n"
          ]
        }
      ]
    },
    {
      "cell_type": "code",
      "metadata": {
        "colab": {
          "base_uri": "https://localhost:8080/"
        },
        "id": "piHLK2l9BrkU",
        "outputId": "8c0718b0-6392-44ae-b46d-bce43dc2c74b"
      },
      "source": [
        "# make predictions with char token pos model\n",
        "model5_pred_probs = model5.predict(val_char_token_pos_dataset, verbose=1)\n",
        "model5_pred_probs"
      ],
      "execution_count": null,
      "outputs": [
        {
          "output_type": "stream",
          "name": "stdout",
          "text": [
            "945/945 [==============================] - 51s 49ms/step\n"
          ]
        },
        {
          "output_type": "execute_result",
          "data": {
            "text/plain": [
              "array([[0.4922188 , 0.10650868, 0.01148622, 0.3720695 , 0.01771685],\n",
              "       [0.53559446, 0.09790003, 0.04948066, 0.30418706, 0.01283773],\n",
              "       [0.26774326, 0.10300419, 0.1415021 , 0.42293233, 0.06481805],\n",
              "       ...,\n",
              "       [0.03173436, 0.09830989, 0.04253489, 0.03025874, 0.7971621 ],\n",
              "       [0.03477702, 0.29895714, 0.07880747, 0.02947935, 0.55797905],\n",
              "       [0.2016593 , 0.58881044, 0.11305159, 0.04110547, 0.05537326]],\n",
              "      dtype=float32)"
            ]
          },
          "metadata": {},
          "execution_count": 144
        }
      ]
    },
    {
      "cell_type": "code",
      "metadata": {
        "colab": {
          "base_uri": "https://localhost:8080/"
        },
        "id": "7eb7dnPICDXB",
        "outputId": "4ae78b8d-52e6-41fe-c2ef-6d3dd5d8d337"
      },
      "source": [
        "# convert pred probs to pred labels\n",
        "model5_preds = tf.argmax(model5_pred_probs, axis=1)\n",
        "model5_preds[:10]"
      ],
      "execution_count": null,
      "outputs": [
        {
          "output_type": "execute_result",
          "data": {
            "text/plain": [
              "<tf.Tensor: shape=(10,), dtype=int64, numpy=array([0, 0, 3, 2, 2, 4, 4, 4, 4, 1])>"
            ]
          },
          "metadata": {},
          "execution_count": 145
        }
      ]
    },
    {
      "cell_type": "code",
      "metadata": {
        "colab": {
          "base_uri": "https://localhost:8080/"
        },
        "id": "J8wqmlQzCQWu",
        "outputId": "2838d847-e94e-41aa-d29c-23ac7e53cc9d"
      },
      "source": [
        "# calculate the results for model5\n",
        "model5_results = calculate_results(y_true=val_labels_encoded,\n",
        "                                   y_pred=model5_preds)\n",
        "model5_results"
      ],
      "execution_count": null,
      "outputs": [
        {
          "output_type": "execute_result",
          "data": {
            "text/plain": [
              "{'accuracy': 83.29471733086191,\n",
              " 'f1': 0.832000816880799,\n",
              " 'precision': 0.8319005219654124,\n",
              " 'recall': 0.8329471733086191}"
            ]
          },
          "metadata": {},
          "execution_count": 146
        }
      ]
    },
    {
      "cell_type": "markdown",
      "metadata": {
        "id": "mUmUovo_CgMI"
      },
      "source": [
        "# Post-Experimentation"
      ]
    },
    {
      "cell_type": "markdown",
      "metadata": {
        "id": "69UVSL1RDw7f"
      },
      "source": [
        "## Comparing the results of all our models"
      ]
    },
    {
      "cell_type": "code",
      "metadata": {
        "colab": {
          "base_uri": "https://localhost:8080/",
          "height": 237
        },
        "id": "B2CX2ZFtD-m_",
        "outputId": "8c2f14a9-2c3a-4de6-f897-c9fd3a0a3476"
      },
      "source": [
        "# combine the model results into a dataframe\n",
        "all_model_results = pd.DataFrame({\"model0_baseline\": baseline_results,\n",
        "                                 \"model1_custom_token\": model1_results,\n",
        "                                 \"model2_pretrained_token_embedding\": model2_results,\n",
        "                                 \"model3_custom_char_embedding\": model3_results,\n",
        "                                 \"model4_hybrid_char_token_embeddings\": model4_results,\n",
        "                                 \"model5_pos_char_token_embeddings\": model5_results})\n",
        "\n",
        "all_model_results = all_model_results.transpose()\n",
        "all_model_results"
      ],
      "execution_count": null,
      "outputs": [
        {
          "output_type": "execute_result",
          "data": {
            "text/html": [
              "<div>\n",
              "<style scoped>\n",
              "    .dataframe tbody tr th:only-of-type {\n",
              "        vertical-align: middle;\n",
              "    }\n",
              "\n",
              "    .dataframe tbody tr th {\n",
              "        vertical-align: top;\n",
              "    }\n",
              "\n",
              "    .dataframe thead th {\n",
              "        text-align: right;\n",
              "    }\n",
              "</style>\n",
              "<table border=\"1\" class=\"dataframe\">\n",
              "  <thead>\n",
              "    <tr style=\"text-align: right;\">\n",
              "      <th></th>\n",
              "      <th>accuracy</th>\n",
              "      <th>precision</th>\n",
              "      <th>recall</th>\n",
              "      <th>f1</th>\n",
              "    </tr>\n",
              "  </thead>\n",
              "  <tbody>\n",
              "    <tr>\n",
              "      <th>model0_baseline</th>\n",
              "      <td>72.183238</td>\n",
              "      <td>0.718647</td>\n",
              "      <td>0.721832</td>\n",
              "      <td>0.698925</td>\n",
              "    </tr>\n",
              "    <tr>\n",
              "      <th>model1_custom_token</th>\n",
              "      <td>78.942142</td>\n",
              "      <td>0.786347</td>\n",
              "      <td>0.789421</td>\n",
              "      <td>0.787271</td>\n",
              "    </tr>\n",
              "    <tr>\n",
              "      <th>model2_pretrained_token_embedding</th>\n",
              "      <td>71.309413</td>\n",
              "      <td>0.713842</td>\n",
              "      <td>0.713094</td>\n",
              "      <td>0.710456</td>\n",
              "    </tr>\n",
              "    <tr>\n",
              "      <th>model3_custom_char_embedding</th>\n",
              "      <td>65.090030</td>\n",
              "      <td>0.641347</td>\n",
              "      <td>0.650900</td>\n",
              "      <td>0.639478</td>\n",
              "    </tr>\n",
              "    <tr>\n",
              "      <th>model4_hybrid_char_token_embeddings</th>\n",
              "      <td>73.484046</td>\n",
              "      <td>0.735318</td>\n",
              "      <td>0.734840</td>\n",
              "      <td>0.732424</td>\n",
              "    </tr>\n",
              "    <tr>\n",
              "      <th>model5_pos_char_token_embeddings</th>\n",
              "      <td>83.251688</td>\n",
              "      <td>0.831456</td>\n",
              "      <td>0.832517</td>\n",
              "      <td>0.831611</td>\n",
              "    </tr>\n",
              "  </tbody>\n",
              "</table>\n",
              "</div>"
            ],
            "text/plain": [
              "                                      accuracy  precision    recall        f1\n",
              "model0_baseline                      72.183238   0.718647  0.721832  0.698925\n",
              "model1_custom_token                  78.942142   0.786347  0.789421  0.787271\n",
              "model2_pretrained_token_embedding    71.309413   0.713842  0.713094  0.710456\n",
              "model3_custom_char_embedding         65.090030   0.641347  0.650900  0.639478\n",
              "model4_hybrid_char_token_embeddings  73.484046   0.735318  0.734840  0.732424\n",
              "model5_pos_char_token_embeddings     83.251688   0.831456  0.832517  0.831611"
            ]
          },
          "metadata": {},
          "execution_count": 114
        }
      ]
    },
    {
      "cell_type": "code",
      "metadata": {
        "id": "Dhixw-suEqZ8"
      },
      "source": [
        "# reduce the accuracy to the same scale\n",
        "all_model_results['accuracy'] = all_model_results['accuracy']/100"
      ],
      "execution_count": null,
      "outputs": []
    },
    {
      "cell_type": "code",
      "metadata": {
        "colab": {
          "base_uri": "https://localhost:8080/",
          "height": 637
        },
        "id": "iuFbr9AWGSbP",
        "outputId": "effdc77c-73aa-498b-d92c-d190b23ebe89"
      },
      "source": [
        "# plot and compare all model results\n",
        "all_model_results.plot(kind='bar', figsize=(10,7)).legend(bbox_to_anchor=(1.0, 1.0))"
      ],
      "execution_count": null,
      "outputs": [
        {
          "output_type": "execute_result",
          "data": {
            "text/plain": [
              "<matplotlib.legend.Legend at 0x7faf52e20fd0>"
            ]
          },
          "metadata": {},
          "execution_count": 116
        },
        {
          "output_type": "display_data",
          "data": {
            "image/png": "[encoded data removed]",
            "text/plain": [
              "<Figure size 720x504 with 1 Axes>"
            ]
          },
          "metadata": {
            "needs_background": "light"
          }
        }
      ]
    },
    {
      "cell_type": "code",
      "metadata": {
        "id": "dFmD2NRRGm0G",
        "colab": {
          "base_uri": "https://localhost:8080/",
          "height": 637
        },
        "outputId": "cbb2de64-db20-4fdc-b05a-a1e9c2097c88"
      },
      "source": [
        "# building a plot for the f1-scores and sort them\n",
        "all_model_results.sort_values(\"f1\", ascending=True)[\"f1\"].plot(kind=\"bar\", figsize=(10,7))"
      ],
      "execution_count": null,
      "outputs": [
        {
          "output_type": "execute_result",
          "data": {
            "text/plain": [
              "<matplotlib.axes._subplots.AxesSubplot at 0x7faf6ef81c10>"
            ]
          },
          "metadata": {},
          "execution_count": 117
        },
        {
          "output_type": "display_data",
          "data": {
            "image/png": "[encoded data removed]",
            "text/plain": [
              "<Figure size 720x504 with 1 Axes>"
            ]
          },
          "metadata": {
            "needs_background": "light"
          }
        }
      ]
    },
    {
      "cell_type": "markdown",
      "metadata": {
        "id": "QUaPIY99i-oy"
      },
      "source": [
        "## Save and Load Model"
      ]
    },
    {
      "cell_type": "code",
      "metadata": {
        "colab": {
          "base_uri": "https://localhost:8080/"
        },
        "id": "PFEmALcTjQ2E",
        "outputId": "6b5488b5-8304-4166-ddc0-dc2f815b8f56"
      },
      "source": [
        "# save the best eprforming model to SaveModel format\n",
        "model5.save(\"skimlit_tribrid_model\")"
      ],
      "execution_count": null,
      "outputs": [
        {
          "output_type": "stream",
          "name": "stderr",
          "text": [
            "WARNING:absl:Found untraced functions such as lstm_cell_4_layer_call_fn, lstm_cell_4_layer_call_and_return_conditional_losses, lstm_cell_5_layer_call_fn, lstm_cell_5_layer_call_and_return_conditional_losses, lstm_cell_4_layer_call_fn while saving (showing 5 of 10). These functions will not be directly callable after loading.\n"
          ]
        },
        {
          "output_type": "stream",
          "name": "stdout",
          "text": [
            "INFO:tensorflow:Assets written to: skimlit_tribrid_model/assets\n"
          ]
        },
        {
          "output_type": "stream",
          "name": "stderr",
          "text": [
            "INFO:tensorflow:Assets written to: skimlit_tribrid_model/assets\n"
          ]
        }
      ]
    },
    {
      "cell_type": "markdown",
      "metadata": {
        "id": "4mb6RgK-k4YQ"
      },
      "source": [
        "## Download and load in a pretrained model from Google Storage"
      ]
    },
    {
      "cell_type": "code",
      "metadata": {
        "id": "ZCjjZv5Cln3_"
      },
      "source": [
        "import tensorflow as tf\n",
        "import tensorflow_hub as hub\n",
        "from tensorflow.keras.layers.experimental.preprocessing import TextVectorization"
      ],
      "execution_count": null,
      "outputs": []
    },
    {
      "cell_type": "code",
      "metadata": {
        "colab": {
          "base_uri": "https://localhost:8080/"
        },
        "id": "kqoZo0kkl10L",
        "outputId": "da81913a-248e-4279-a427-b9530b2d9a43"
      },
      "source": [
        "!wget \"https://storage.googleapis.com/ztm_tf_course/skimlit/skimlit_tribrid_model.zip\"\n",
        "!mkdir skimlit_gs_model\n",
        "!unzip skimlit_tribrid_model.zip -d skimlit_gs_model"
      ],
      "execution_count": null,
      "outputs": [
        {
          "output_type": "stream",
          "name": "stdout",
          "text": [
            "--2021-09-23 07:40:27--  https://storage.googleapis.com/ztm_tf_course/skimlit/skimlit_tribrid_model.zip\n",
            "Resolving storage.googleapis.com (storage.googleapis.com)... 108.177.112.128, 74.125.124.128, 172.217.212.128, ...\n",
            "Connecting to storage.googleapis.com (storage.googleapis.com)|108.177.112.128|:443... connected.\n",
            "HTTP request sent, awaiting response... 200 OK\n",
            "Length: 962561955 (918M) [application/zip]\n",
            "Saving to: ‘skimlit_tribrid_model.zip’\n",
            "\n",
            "skimlit_tribrid_mod 100%[===================>] 917.97M  81.8MB/s    in 11s     \n",
            "\n",
            "2021-09-23 07:40:38 (85.1 MB/s) - ‘skimlit_tribrid_model.zip’ saved [962561955/962561955]\n",
            "\n",
            "Archive:  skimlit_tribrid_model.zip\n",
            "   creating: skimlit_gs_model/skimlit_tribrid_model/\n",
            "   creating: skimlit_gs_model/skimlit_tribrid_model/variables/\n",
            "  inflating: skimlit_gs_model/skimlit_tribrid_model/variables/variables.index  \n",
            "  inflating: skimlit_gs_model/skimlit_tribrid_model/variables/variables.data-00000-of-00001  \n",
            "  inflating: skimlit_gs_model/skimlit_tribrid_model/keras_metadata.pb  \n",
            "  inflating: skimlit_gs_model/skimlit_tribrid_model/saved_model.pb  \n",
            "   creating: skimlit_gs_model/skimlit_tribrid_model/assets/\n"
          ]
        }
      ]
    },
    {
      "cell_type": "code",
      "metadata": {
        "id": "mHSI9WJEmTtm"
      },
      "source": [
        "# load the downloaded google storage model\n",
        "loaded_gs_model = tf.keras.models.load_model(\"skimlit_gs_model/skimlit_tribrid_model/\")"
      ],
      "execution_count": null,
      "outputs": []
    },
    {
      "cell_type": "code",
      "metadata": {
        "colab": {
          "base_uri": "https://localhost:8080/"
        },
        "id": "j5Y_kkKPmsN9",
        "outputId": "df00d0e2-752c-4b76-fcd0-4667624fa2d1"
      },
      "source": [
        "# evaluate the loaded Google Storage Model\n",
        "loaded_gs_model.evaluate(val_char_token_pos_dataset)"
      ],
      "execution_count": null,
      "outputs": [
        {
          "output_type": "stream",
          "name": "stdout",
          "text": [
            "945/945 [==============================] - 195s 206ms/step - loss: 0.9479 - accuracy: 0.8275\n"
          ]
        },
        {
          "output_type": "execute_result",
          "data": {
            "text/plain": [
              "[0.9478996396064758, 0.8274526596069336]"
            ]
          },
          "metadata": {},
          "execution_count": 147
        }
      ]
    },
    {
      "cell_type": "markdown",
      "metadata": {
        "id": "-j9j0twcm3Wq"
      },
      "source": [
        "# My Challenges\n",
        "\n",
        "1. Turn the test data samples into a tf.data.Dataset (fast loading) and then evaluate (make predictions) the best performing model on the test data samples.\n",
        "2. Find the most wrong predictions from 1 (these are the samples where the model has predicted the wrong label with the highest prediction probability).\n",
        "3. Make example predictions (on RCT abstracts from the wild), you can go to Pubed to find these: https://pubmed.ncbi.nlm.nih.gov/,\n",
        "find and use our model to predict on 3-4 different abstracts from the wold.\n",
        "4. See the exercises and extra curriculum section on GitHub to further test your skills (for section 09)."
      ]
    }
  ]
}